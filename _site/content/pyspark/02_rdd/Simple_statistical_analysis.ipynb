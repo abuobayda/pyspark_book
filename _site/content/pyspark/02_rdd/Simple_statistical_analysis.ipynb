{
 "cells": [
  {
   "cell_type": "code",
   "execution_count": null,
   "metadata": {
    "tags": [
     "remove_cell"
    ]
   },
   "outputs": [],
   "source": [
    "!apt-get install openjdk-8-jdk-headless -qq > /dev/null\n",
    "!wget -q https://www-us.apache.org/dist/spark/spark-2.4.4/spark-2.4.4-bin-hadoop2.6.tgz\n",
    "!tar xvf spark-2.4.4-bin-hadoop2.6.tgz\n",
    "!pip install -q findspark\n",
    "import os\n",
    "os.environ[\"JAVA_HOME\"] = \"/usr/lib/jvm/java-8-openjdk-amd64\"\n",
    "os.environ[\"SPARK_HOME\"] = \"/content/spark-2.4.4-bin-hadoop2.6\"\n",
    "import findspark\n",
    "findspark.init()\n",
    "import pyspark\n",
    "sc = pyspark.SparkContext(appName=\"PySpark_dataframe\")"
   ]
  },
  {
   "cell_type": "markdown",
   "metadata": {},
   "source": [
    "# Simple Statistical Analysis"
   ]
  },
  {
   "cell_type": "code",
   "execution_count": null,
   "metadata": {
    "colab": {},
    "colab_type": "code",
    "id": "sZajoJ2j-6Td",
    "tags": [
     "hide_input"
    ]
   },
   "outputs": [],
   "source": [
    "import pyspark\n",
    "sc = pyspark.SparkContext(appName=\"rdd_statistical\")"
   ]
  },
  {
   "cell_type": "markdown",
   "metadata": {
    "colab_type": "text",
    "id": "a6fx_1aB-usq"
   },
   "source": [
    "## 1st Statistical Moment"
   ]
  },
  {
   "cell_type": "markdown",
   "metadata": {
    "colab_type": "text",
    "id": "2cmF4GOC_L9e"
   },
   "source": [
    "The mean is the average of all values in the dataset.\n",
    "$$Mean = \\frac{1}{n}\\sum_{i=1}^{n}a_i = \\frac{1}{n}(a_1, a_2, \\cdots, a_n)$$"
   ]
  },
  {
   "cell_type": "code",
   "execution_count": null,
   "metadata": {
    "colab": {},
    "colab_type": "code",
    "id": "R_5BcMp--dEo"
   },
   "outputs": [],
   "source": [
    "rdd = sc.parallelize(list(range(100)))"
   ]
  },
  {
   "cell_type": "code",
   "execution_count": null,
   "metadata": {
    "colab": {
     "base_uri": "https://localhost:8080/",
     "height": 35
    },
    "colab_type": "code",
    "id": "h6hxAznB_x-o",
    "outputId": "8a9bd745-a930-4f4e-809d-35eb63e788cf"
   },
   "outputs": [
    {
     "name": "stdout",
     "output_type": "stream",
     "text": [
      "49.5\n"
     ]
    }
   ],
   "source": [
    "sum = rdd.sum()\n",
    "n = rdd.count()\n",
    "mean = sum / n\n",
    "print(mean)"
   ]
  },
  {
   "cell_type": "markdown",
   "metadata": {
    "colab_type": "text",
    "id": "YZgmRW5p_9AG"
   },
   "source": [
    "The median is the middle number in a sequance of numbers.\n",
    "1. Sort the list.\n",
    "2. Pick the middle number."
   ]
  },
  {
   "cell_type": "code",
   "execution_count": null,
   "metadata": {
    "colab": {},
    "colab_type": "code",
    "id": "sr-9J2h8BdAB"
   },
   "outputs": [],
   "source": [
    "rdd = sc.parallelize([101]+list(range(100))+[102])"
   ]
  },
  {
   "cell_type": "code",
   "execution_count": null,
   "metadata": {
    "colab": {},
    "colab_type": "code",
    "id": "7uD4sUke_5f0"
   },
   "outputs": [],
   "source": [
    "rdd.sortBy(lambda x: x).collect()"
   ]
  },
  {
   "cell_type": "markdown",
   "metadata": {
    "colab_type": "text",
    "id": "SFHPWvGkATIn"
   },
   "source": [
    "We need to add the index to each entry."
   ]
  },
  {
   "cell_type": "code",
   "execution_count": null,
   "metadata": {
    "colab": {},
    "colab_type": "code",
    "id": "bmVm3dczAOQy"
   },
   "outputs": [],
   "source": [
    "rdd.sortBy(lambda x:x).zipWithIndex().collect()"
   ]
  },
  {
   "cell_type": "code",
   "execution_count": null,
   "metadata": {
    "colab": {},
    "colab_type": "code",
    "id": "Wsj1pmo6NLn-"
   },
   "outputs": [],
   "source": [
    "rdd.sortBy(lambda x:x).zipWithIndex().map(lambda x:(x[1], x[0])).collect()"
   ]
  },
  {
   "cell_type": "markdown",
   "metadata": {
    "colab_type": "text",
    "id": "6YzQZ3guBkKY"
   },
   "source": [
    "Notice the key is the value and the value is the index."
   ]
  },
  {
   "cell_type": "code",
   "execution_count": null,
   "metadata": {
    "colab": {
     "base_uri": "https://localhost:8080/",
     "height": 35
    },
    "colab_type": "code",
    "id": "WyUZX8tPAd8X",
    "outputId": "cd47ccf3-bc41-4292-9155-4fd51b8e4e80"
   },
   "outputs": [
    {
     "name": "stdout",
     "output_type": "stream",
     "text": [
      "50.5\n"
     ]
    }
   ],
   "source": [
    "sorted_list = rdd.sortBy(lambda x:x).zipWithIndex().map(lambda x:(x[1], x[0]))\n",
    "n = sorted_list.count()\n",
    "if (n%2==1):\n",
    "  index = int(n /2)\n",
    "  print(sorted_list.lookup(index)) \n",
    "else:\n",
    "  index1 = (n/2) - 1\n",
    "  index2 = n/2\n",
    "  value1 = sorted_list.lookup(index1)[0]\n",
    "  value2 = sorted_list.lookup(index2)[0]\n",
    "  median = (value1 + value2) / 2\n",
    "  print(median)"
   ]
  },
  {
   "cell_type": "markdown",
   "metadata": {
    "colab_type": "text",
    "id": "EfdGhwddP6oU"
   },
   "source": [
    "Lets add some outliers"
   ]
  },
  {
   "cell_type": "code",
   "execution_count": null,
   "metadata": {
    "colab": {},
    "colab_type": "code",
    "id": "Ldx4D6rXM_Cf"
   },
   "outputs": [],
   "source": [
    "rdd = sc.parallelize([101]+list(range(100))+[102, 1000, 10000])"
   ]
  },
  {
   "cell_type": "code",
   "execution_count": null,
   "metadata": {
    "colab": {
     "base_uri": "https://localhost:8080/",
     "height": 35
    },
    "colab_type": "code",
    "id": "YmGf5MzxQDsL",
    "outputId": "cfb1b041-58b2-4762-a107-2208e9f592fe"
   },
   "outputs": [
    {
     "name": "stdout",
     "output_type": "stream",
     "text": [
      "155.31730769230768\n"
     ]
    }
   ],
   "source": [
    "sum = rdd.sum()\n",
    "n = rdd.count()\n",
    "mean = sum / float(n)\n",
    "print(mean)"
   ]
  },
  {
   "cell_type": "code",
   "execution_count": null,
   "metadata": {
    "colab": {
     "base_uri": "https://localhost:8080/",
     "height": 35
    },
    "colab_type": "code",
    "id": "LPwqMbEmQIWj",
    "outputId": "776ad924-4d57-4ac7-f58b-a567ec9893a1"
   },
   "outputs": [
    {
     "name": "stdout",
     "output_type": "stream",
     "text": [
      "51.5\n"
     ]
    }
   ],
   "source": [
    "sorted_list = rdd.sortBy(lambda x:x).zipWithIndex().map(lambda x:(x[1], x[0]))\n",
    "n = sorted_list.count()\n",
    "if (n%2==1):\n",
    "  index = int(n /2)\n",
    "  print(sorted_list.lookup(index)) \n",
    "else:\n",
    "  index1 = (n/2) - 1\n",
    "  index2 = n/2\n",
    "  value1 = sorted_list.lookup(index1)[0]\n",
    "  value2 = sorted_list.lookup(index2)[0]\n",
    "  median = (value1 + value2) / 2\n",
    "  print(median)"
   ]
  },
  {
   "cell_type": "markdown",
   "metadata": {
    "colab_type": "text",
    "id": "Aab6EguWQRTl"
   },
   "source": [
    "As we can see, the mean gets pulled into the direction of the outliers, whereas the median is far more resistant to the outliers. Isn't that amazing?"
   ]
  },
  {
   "cell_type": "markdown",
   "metadata": {
    "colab_type": "text",
    "id": "kjZcuBuqT8P1"
   },
   "source": [
    "## 2nd Statistical Moment:\n",
    "### Standard Deviation\n",
    "* How wide the data is spread around the mean.\n",
    "* If the $std$ is low most of the data points in the list are close to the mean.\n",
    "* If the $std$ is high then the data points in the list are much wider spread around the mean.\n",
    "$$std = \\sqrt{\\frac{1}{N}\\sum_{i=1}^{N}(x_i - \\hat{x})^2}$$\n",
    "where $\\hat{x}$ is the mean and $x_i$ is the data point"
   ]
  },
  {
   "cell_type": "code",
   "execution_count": null,
   "metadata": {
    "colab": {
     "base_uri": "https://localhost:8080/",
     "height": 35
    },
    "colab_type": "code",
    "id": "_WZZqgT4QI7a",
    "outputId": "b4d61e01-2798-470c-a773-4e312d755e46"
   },
   "outputs": [
    {
     "data": {
      "text/plain": [
       "83325.0"
      ]
     },
     "execution_count": 78,
     "metadata": {
      "tags": []
     },
     "output_type": "execute_result"
    }
   ],
   "source": [
    "rdd = sc.parallelize(list(range(100)))\n",
    "#calculate the mean\n",
    "sum = rdd.sum()\n",
    "n = rdd.count()\n",
    "mean = sum / float(n)\n",
    "# subtract the mean from each data point in the list\n",
    "rdd.map(lambda x: pow(x - mean, 2)).sum()"
   ]
  },
  {
   "cell_type": "code",
   "execution_count": null,
   "metadata": {
    "colab": {
     "base_uri": "https://localhost:8080/",
     "height": 35
    },
    "colab_type": "code",
    "id": "UC31bDY5V_b7",
    "outputId": "b733498d-3422-4534-f169-ff036b473455"
   },
   "outputs": [
    {
     "data": {
      "text/plain": [
       "833.25"
      ]
     },
     "execution_count": 79,
     "metadata": {
      "tags": []
     },
     "output_type": "execute_result"
    }
   ],
   "source": [
    "# divide it by the size of the list \"n\"\n",
    "rdd.map(lambda x: pow(x - mean, 2)).sum() / n"
   ]
  },
  {
   "cell_type": "code",
   "execution_count": null,
   "metadata": {
    "colab": {},
    "colab_type": "code",
    "id": "1hnbKg0YWgmr"
   },
   "outputs": [],
   "source": [
    "from math import sqrt\n",
    "# squre root the result\n",
    "std = sqrt(rdd.map(lambda x: pow(x - mean, 2)).sum() / n)"
   ]
  },
  {
   "cell_type": "code",
   "execution_count": null,
   "metadata": {
    "colab": {
     "base_uri": "https://localhost:8080/",
     "height": 35
    },
    "colab_type": "code",
    "id": "GX8GYMFmW7Cf",
    "outputId": "539135e8-1593-4adc-b7a8-06d1c8e6cf66"
   },
   "outputs": [
    {
     "name": "stdout",
     "output_type": "stream",
     "text": [
      "28.86607004772212\n"
     ]
    }
   ],
   "source": [
    "print(std)"
   ]
  },
  {
   "cell_type": "markdown",
   "metadata": {
    "colab_type": "text",
    "id": "L3cGolJWW4Qp"
   },
   "source": [
    "The value of the standard devision is high, ehich make sense as our data range from 0 to 100."
   ]
  },
  {
   "cell_type": "code",
   "execution_count": null,
   "metadata": {
    "colab": {
     "base_uri": "https://localhost:8080/",
     "height": 52
    },
    "colab_type": "code",
    "id": "unbeGYiHWqT6",
    "outputId": "a122dff0-63c9-485c-f227-f2f17e17b667"
   },
   "outputs": [
    {
     "name": "stdout",
     "output_type": "stream",
     "text": [
      "The mean is: 49.0\n",
      "The std is:  0.0\n"
     ]
    }
   ],
   "source": [
    "rdd = sc.parallelize([49]*100)\n",
    "#calculate the mean\n",
    "sum = rdd.sum()\n",
    "n = rdd.count()\n",
    "mean = sum / float(n)\n",
    "print(\"The mean is:\", mean)\n",
    "std = sqrt(rdd.map(lambda x: pow(x - mean, 2)).sum() / n)\n",
    "print(\"The std is: \",std)"
   ]
  },
  {
   "cell_type": "code",
   "execution_count": null,
   "metadata": {
    "colab": {
     "base_uri": "https://localhost:8080/",
     "height": 52
    },
    "colab_type": "code",
    "id": "zJPaUqfmXTM2",
    "outputId": "5974576d-b339-4b44-f8c9-05e881685e0c"
   },
   "outputs": [
    {
     "name": "stdout",
     "output_type": "stream",
     "text": [
      "The mean is: 49.504950495049506\n",
      "The std is:  5.049504950495049\n"
     ]
    }
   ],
   "source": [
    "rdd = sc.parallelize([49]*100+[100])\n",
    "#calculate the mean\n",
    "sum = rdd.sum()\n",
    "n = rdd.count()\n",
    "mean = sum / float(n)\n",
    "print(\"The mean is:\", mean)\n",
    "std = sqrt(rdd.map(lambda x: pow(x - mean, 2)).sum() / n)\n",
    "print(\"The std is: \",std)"
   ]
  },
  {
   "cell_type": "code",
   "execution_count": null,
   "metadata": {
    "colab": {
     "base_uri": "https://localhost:8080/",
     "height": 52
    },
    "colab_type": "code",
    "id": "1zYZkCjaXgAj",
    "outputId": "5db35790-13da-4d00-942c-5f99a04405cc"
   },
   "outputs": [
    {
     "name": "stdout",
     "output_type": "stream",
     "text": [
      "The mean is: 58.415841584158414\n",
      "The std is:  94.15841584158416\n"
     ]
    }
   ],
   "source": [
    "rdd = sc.parallelize([49]*100+[1000])\n",
    "#calculate the mean\n",
    "sum = rdd.sum()\n",
    "n = rdd.count()\n",
    "mean = sum / float(n)\n",
    "print(\"The mean is:\", mean)\n",
    "std = sqrt(rdd.map(lambda x: pow(x - mean, 2)).sum() / n)\n",
    "print(\"The std is: \",std)"
   ]
  },
  {
   "cell_type": "markdown",
   "metadata": {
    "colab_type": "text",
    "id": "dys9ni7sYKGT"
   },
   "source": [
    "### variance\n",
    "Its the standard deviation to the power of two"
   ]
  },
  {
   "cell_type": "markdown",
   "metadata": {
    "colab_type": "text",
    "id": "aL04XTglbi5k"
   },
   "source": [
    "## 3rd Statistical Moment: Skewness\n",
    "* How asymmetric data is spread around the mean.\n",
    "* The skew value can be postitve, negative or undefined.\n",
    "\n",
    "**negative Skew** indicates that the tail is on the left side of the distributions.\n",
    "\n",
    "**positive Skew** indicates that the tail is on the right side of the distributions.\n",
    "\n",
    "**zero Skew** means that the tail in both sides are balanced."
   ]
  },
  {
   "cell_type": "code",
   "execution_count": null,
   "metadata": {
    "colab": {
     "base_uri": "https://localhost:8080/",
     "height": 69
    },
    "colab_type": "code",
    "id": "EKWdwFcQbiIG",
    "outputId": "4afb1a1a-42f4-40b0-a4f7-2ebfd0d5aa88"
   },
   "outputs": [
    {
     "name": "stdout",
     "output_type": "stream",
     "text": [
      "The mean is:  49.5\n",
      "The std is:  28.86607004772212\n",
      "The skew is:  0.0\n"
     ]
    }
   ],
   "source": [
    "rdd = sc.parallelize(list(range(100)))\n",
    "#calculate the mean\n",
    "sum = rdd.sum()\n",
    "n = rdd.count()\n",
    "mean = sum / float(n)\n",
    "std = sqrt(rdd.map(lambda x: pow(x - mean, 2)).sum() / n)\n",
    "skew = (1/n) * rdd.map(lambda x: pow(x-mean,3)).sum()/pow(std,3)\n",
    "print(\"The mean is: \",mean)\n",
    "print(\"The std is: \",std)\n",
    "print(\"The skew is: \",skew)"
   ]
  },
  {
   "cell_type": "code",
   "execution_count": null,
   "metadata": {
    "colab": {
     "base_uri": "https://localhost:8080/",
     "height": 69
    },
    "colab_type": "code",
    "id": "W5R93I3zeOWJ",
    "outputId": "76e7fea3-0b06-45c9-b103-ae60e678ca9b"
   },
   "outputs": [
    {
     "name": "stdout",
     "output_type": "stream",
     "text": [
      "The mean is:  913.5909090909091\n",
      "The std is:  273.38811224585896\n",
      "The skew is:  -2.8513343104247486\n"
     ]
    }
   ],
   "source": [
    "# add outliers (Negative Skew)\n",
    "rdd = sc.parallelize(list(range(100))+[1000]*1000)\n",
    "#calculate the mean\n",
    "sum = rdd.sum()\n",
    "n = rdd.count()\n",
    "mean = sum / float(n)\n",
    "std = sqrt(rdd.map(lambda x: pow(x - mean, 2)).sum() / n)\n",
    "skew = (1/n) * rdd.map(lambda x: pow(x-mean,3)).sum()/pow(std,3)\n",
    "print(\"The mean is: \",mean)\n",
    "print(\"The std is: \",std)\n",
    "print(\"The skew is: \",skew)"
   ]
  },
  {
   "cell_type": "code",
   "execution_count": null,
   "metadata": {
    "colab": {
     "base_uri": "https://localhost:8080/",
     "height": 69
    },
    "colab_type": "code",
    "id": "d0Kh8MrZefpQ",
    "outputId": "0cc96e9a-5466-477a-bd13-e6d231dea34c"
   },
   "outputs": [
    {
     "name": "stdout",
     "output_type": "stream",
     "text": [
      "The mean is:  -904.5909090909091\n",
      "The std is:  301.8355450920072\n",
      "The skew is:  2.850385714443368\n"
     ]
    }
   ],
   "source": [
    "# add outliers (positive skew)\n",
    "rdd = sc.parallelize(list(range(100))+[-1000]*1000)\n",
    "#calculate the mean\n",
    "sum = rdd.sum()\n",
    "n = rdd.count()\n",
    "mean = sum / float(n)\n",
    "std = sqrt(rdd.map(lambda x: pow(x - mean, 2)).sum() / n)\n",
    "skew = (1/n) * rdd.map(lambda x: pow(x-mean,3)).sum()/pow(std,3)\n",
    "print(\"The mean is: \",mean)\n",
    "print(\"The std is: \",std)\n",
    "print(\"The skew is: \",skew)"
   ]
  },
  {
   "cell_type": "markdown",
   "metadata": {
    "colab_type": "text",
    "id": "HQN3S4ahl5yl"
   },
   "source": [
    "## 4th Statistical Moment: Kurtosis\n",
    "\n",
    "* Reports on the shape of the data.\n",
    "* Indicates outliers content within the data.\n",
    "* The higher the Kurtosis measure is the more outliers are present and the longer the tails of the distribution."
   ]
  },
  {
   "cell_type": "code",
   "execution_count": null,
   "metadata": {
    "colab": {
     "base_uri": "https://localhost:8080/",
     "height": 86
    },
    "colab_type": "code",
    "id": "2I22TaBggqc-",
    "outputId": "1cfa7392-fec6-4abc-8709-4008ec897b05"
   },
   "outputs": [
    {
     "name": "stdout",
     "output_type": "stream",
     "text": [
      "The mean is:  49.5\n",
      "The std is:  28.86607004772212\n",
      "The skew is:  0.0\n",
      "The kurtosis is:  1.7997599759975997\n"
     ]
    }
   ],
   "source": [
    "rdd = sc.parallelize(list(range(100)))\n",
    "#calculate the mean\n",
    "sum = rdd.sum()\n",
    "n = rdd.count()\n",
    "mean = sum / float(n)\n",
    "std = sqrt(rdd.map(lambda x: pow(x - mean, 2)).sum() / n)\n",
    "skew = (1/n) * rdd.map(lambda x: pow(x-mean,3)).sum()/pow(std,3)\n",
    "ku = (1/n) * rdd.map(lambda x: pow(x-mean,4)).sum()/pow(std,4)\n",
    "print(\"The mean is: \",mean)\n",
    "print(\"The std is: \",std)\n",
    "print(\"The skew is: \",skew)\n",
    "print(\"The kurtosis is: \",ku)"
   ]
  },
  {
   "cell_type": "code",
   "execution_count": null,
   "metadata": {
    "colab": {
     "base_uri": "https://localhost:8080/",
     "height": 86
    },
    "colab_type": "code",
    "id": "rBTZhuitm-TE",
    "outputId": "0af7546f-c769-4d59-ef20-b31cf74d325f"
   },
   "outputs": [
    {
     "name": "stdout",
     "output_type": "stream",
     "text": [
      "The mean is:  913.5909090909091\n",
      "The std is:  273.38811224585896\n",
      "The skew is:  -2.8513343104247486\n",
      "The kurtosis is:  9.142332316054704\n"
     ]
    }
   ],
   "source": [
    "rdd = sc.parallelize(list(range(100))+[1000]*1000)\n",
    "#calculate the mean\n",
    "sum = rdd.sum()\n",
    "n = rdd.count()\n",
    "mean = sum / float(n)\n",
    "std = sqrt(rdd.map(lambda x: pow(x - mean, 2)).sum() / n)\n",
    "skew = (1/n) * rdd.map(lambda x: pow(x-mean,3)).sum()/pow(std,3)\n",
    "ku = (1/n) * rdd.map(lambda x: pow(x-mean,4)).sum()/pow(std,4)\n",
    "print(\"The mean is: \",mean)\n",
    "print(\"The std is: \",std)\n",
    "print(\"The skew is: \",skew)\n",
    "print(\"The kurtosis is: \",ku)"
   ]
  },
  {
   "cell_type": "code",
   "execution_count": null,
   "metadata": {
    "colab": {
     "base_uri": "https://localhost:8080/",
     "height": 86
    },
    "colab_type": "code",
    "id": "wpjQE17knUDn",
    "outputId": "ed483fc5-0083-4555-ae13-cc4e3ec03d51"
   },
   "outputs": [
    {
     "name": "stdout",
     "output_type": "stream",
     "text": [
      "The mean is:  -904.5909090909091\n",
      "The std is:  301.8355450920072\n",
      "The skew is:  2.850385714443368\n",
      "The kurtosis is:  9.134733566834258\n"
     ]
    }
   ],
   "source": [
    "rdd = sc.parallelize(list(range(100))+[-1000]*1000)\n",
    "#calculate the mean\n",
    "sum = rdd.sum()\n",
    "n = rdd.count()\n",
    "mean = sum / float(n)\n",
    "std = sqrt(rdd.map(lambda x: pow(x - mean, 2)).sum() / n)\n",
    "skew = (1/n) * rdd.map(lambda x: pow(x-mean,3)).sum()/pow(std,3)\n",
    "ku = (1/n) * rdd.map(lambda x: pow(x-mean,4)).sum()/pow(std,4)\n",
    "print(\"The mean is: \",mean)\n",
    "print(\"The std is: \",std)\n",
    "print(\"The skew is: \",skew)\n",
    "print(\"The kurtosis is: \",ku)"
   ]
  },
  {
   "cell_type": "markdown",
   "metadata": {
    "colab_type": "text",
    "id": "yGkIclh0uU8Q"
   },
   "source": [
    "$$cov(X,Y) = \\frac{1}{n}\\sum_{i=1}^n(x_i - \\hat{x})(y_i - \\hat{y})$$"
   ]
  },
  {
   "cell_type": "code",
   "execution_count": null,
   "metadata": {
    "colab": {
     "base_uri": "https://localhost:8080/",
     "height": 52
    },
    "colab_type": "code",
    "id": "hRarhFYnneBM",
    "outputId": "a9588a42-e404-4219-fd85-06d686d7f748"
   },
   "outputs": [
    {
     "name": "stdout",
     "output_type": "stream",
     "text": [
      "The stdx is:  28.86607004772212\n",
      "The stdy is:  28.86607004772212\n"
     ]
    }
   ],
   "source": [
    "rddx = sc.parallelize(list(range(100)))\n",
    "rddy = sc.parallelize(list(range(100)))\n",
    "rddxy = rddx.zip(rddy)\n",
    "n = rddxy.count()\n",
    "# Calculate the mean value\n",
    "meanx = rddx.sum()/rddx.count()\n",
    "meany = rddy.sum()/rddy.count()\n",
    "# Calculate the STD\n",
    "stdx = sqrt(rddx.map(lambda x: pow(x - meanx, 2)).sum() / n)\n",
    "stdy = sqrt(rddy.map(lambda x: pow(x - meany, 2)).sum() / n)\n",
    "print(\"The stdx is: \",stdx)\n",
    "print(\"The stdy is: \",stdy)\n"
   ]
  },
  {
   "cell_type": "code",
   "execution_count": null,
   "metadata": {
    "colab": {
     "base_uri": "https://localhost:8080/",
     "height": 190
    },
    "colab_type": "code",
    "id": "Wi9UotZcsMJ1",
    "outputId": "716d361a-6582-4026-d947-fb556a567807"
   },
   "outputs": [
    {
     "data": {
      "text/plain": [
       "[(0, 0),\n",
       " (1, 1),\n",
       " (2, 2),\n",
       " (3, 3),\n",
       " (4, 4),\n",
       " (5, 5),\n",
       " (6, 6),\n",
       " (7, 7),\n",
       " (8, 8),\n",
       " (9, 9)]"
      ]
     },
     "execution_count": 125,
     "metadata": {
      "tags": []
     },
     "output_type": "execute_result"
    }
   ],
   "source": [
    "rddxy.take(10)"
   ]
  },
  {
   "cell_type": "code",
   "execution_count": null,
   "metadata": {
    "colab": {},
    "colab_type": "code",
    "id": "k5-LGzaDsQTV"
   },
   "outputs": [],
   "source": [
    "conv = (rddxy.map(lambda x:(x[0]-meanx) * (x[1]-meany)).sum())/n"
   ]
  },
  {
   "cell_type": "markdown",
   "metadata": {
    "colab_type": "text",
    "id": "ULjC5EEgt9LE"
   },
   "source": [
    "**Measure of dependencay** Correlation\n",
    "* 1 totally correlated.\n",
    "* 0 No interaction \n",
    "* -1 inverse dependence"
   ]
  },
  {
   "cell_type": "markdown",
   "metadata": {
    "colab_type": "text",
    "id": "33lxNeKNuxCz"
   },
   "source": [
    "$$corr(X,Y) = \\frac{conv(X,Y)}{\\sigma_{x}.\\sigma_{y}}$$"
   ]
  },
  {
   "cell_type": "code",
   "execution_count": null,
   "metadata": {
    "colab": {},
    "colab_type": "code",
    "id": "Fm9nU1gKszua"
   },
   "outputs": [],
   "source": [
    "corr = (conv)/(stdx*stdy)"
   ]
  },
  {
   "cell_type": "code",
   "execution_count": null,
   "metadata": {
    "colab": {
     "base_uri": "https://localhost:8080/",
     "height": 35
    },
    "colab_type": "code",
    "id": "5dlOKJA5v00J",
    "outputId": "decc9973-35b8-4286-b883-50f6706aa7c5"
   },
   "outputs": [
    {
     "data": {
      "text/plain": [
       "1.0"
      ]
     },
     "execution_count": 128,
     "metadata": {
      "tags": []
     },
     "output_type": "execute_result"
    }
   ],
   "source": [
    "corr"
   ]
  },
  {
   "cell_type": "code",
   "execution_count": null,
   "metadata": {
    "colab": {
     "base_uri": "https://localhost:8080/",
     "height": 86
    },
    "colab_type": "code",
    "id": "Ld_mt1w4v1i-",
    "outputId": "92a39229-1a83-44b6-bd14-b801fbfedfc6"
   },
   "outputs": [
    {
     "name": "stdout",
     "output_type": "stream",
     "text": [
      "The stdx is:  28.86607004772212\n",
      "The stdy is:  28.86607004772212\n",
      "The covariance is:  -833.25\n",
      "The correlation value is:  -1.0\n"
     ]
    }
   ],
   "source": [
    "rddx = sc.parallelize(list(range(100)))\n",
    "# reverse the second column\n",
    "rddy = sc.parallelize(reversed(list(range(100))))\n",
    "rddxy = rddx.zip(rddy)\n",
    "n = rddxy.count()\n",
    "# Calculate the mean value\n",
    "meanx = rddx.sum()/rddx.count()\n",
    "meany = rddy.sum()/rddy.count()\n",
    "# Calculate the STD\n",
    "stdx = sqrt(rddx.map(lambda x: pow(x - meanx, 2)).sum() / n)\n",
    "stdy = sqrt(rddy.map(lambda x: pow(x - meany, 2)).sum() / n)\n",
    "print(\"The stdx is: \",stdx)\n",
    "print(\"The stdy is: \",stdy)\n",
    "conv = (rddxy.map(lambda x:(x[0]-meanx) * (x[1]-meany)).sum())/n\n",
    "print(\"The covariance is: \", conv)\n",
    "corr = (conv)/(stdx*stdy)\n",
    "print(\"The correlation value is: \", corr)"
   ]
  },
  {
   "cell_type": "code",
   "execution_count": null,
   "metadata": {
    "colab": {
     "base_uri": "https://localhost:8080/",
     "height": 86
    },
    "colab_type": "code",
    "id": "iK-ekAbNxJXd",
    "outputId": "bd73e907-c9cc-4be1-8e70-bbd6c6d1f8df"
   },
   "outputs": [
    {
     "name": "stdout",
     "output_type": "stream",
     "text": [
      "The stdx is:  28.86607004772212\n",
      "The stdy is:  28.86607004772212\n",
      "The covariance is:  64.98\n",
      "The correlation value is:  0.07798379837983799\n"
     ]
    }
   ],
   "source": [
    "# Generate random samples\n",
    "import random\n",
    "rddx = sc.parallelize(random.sample(range(100),100))\n",
    "rddy = sc.parallelize(random.sample(range(100),100))\n",
    "rddxy = rddx.zip(rddy)\n",
    "n = rddxy.count()\n",
    "# Calculate the mean value\n",
    "meanx = rddx.sum()/rddx.count()\n",
    "meany = rddy.sum()/rddy.count()\n",
    "# Calculate the STD\n",
    "stdx = sqrt(rddx.map(lambda x: pow(x - meanx, 2)).sum() / n)\n",
    "stdy = sqrt(rddy.map(lambda x: pow(x - meany, 2)).sum() / n)\n",
    "print(\"The stdx is: \",stdx)\n",
    "print(\"The stdy is: \",stdy)\n",
    "conv = (rddxy.map(lambda x:(x[0]-meanx) * (x[1]-meany)).sum())/n\n",
    "print(\"The covariance is: \", conv)\n",
    "corr = (conv)/(stdx*stdy)\n",
    "print(\"The correlation value is: \", corr)"
   ]
  },
  {
   "cell_type": "code",
   "execution_count": null,
   "metadata": {
    "colab": {
     "base_uri": "https://localhost:8080/",
     "height": 86
    },
    "colab_type": "code",
    "id": "2MHt5W8MyQpk",
    "outputId": "afde5abd-739c-409b-af93-ea52b2f3d784"
   },
   "outputs": [
    {
     "name": "stdout",
     "output_type": "stream",
     "text": [
      "[[ 1.          1.         -1.         -0.12255626]\n",
      " [ 1.          1.         -1.         -0.12255626]\n",
      " [-1.         -1.          1.          0.12255626]\n",
      " [-0.12255626 -0.12255626  0.12255626  1.        ]]\n"
     ]
    }
   ],
   "source": [
    "from pyspark.mllib.stat import Statistics\n",
    "\n",
    "column1 = sc.parallelize(range(100))\n",
    "column2 = sc.parallelize(range(100,200))\n",
    "column3 = sc.parallelize(list(reversed(range(100))))\n",
    "column4 = sc.parallelize(random.sample(range(100),100))\n",
    "data = column1.zip(column2).zip(column3).zip(column4).map(lambda nested : (nested[0][0][0],nested[0][0][1],nested[0][1],nested[1]))\n",
    "print(Statistics.corr(data))"
   ]
  }
 ],
 "metadata": {
  "colab": {
   "collapsed_sections": [],
   "name": "Simple_statistical_analysis.ipynb",
   "provenance": []
  },
  "kernelspec": {
   "display_name": "Python 3",
   "language": "python",
   "name": "python3"
  },
  "language_info": {
   "codemirror_mode": {
    "name": "ipython",
    "version": 3
   },
   "file_extension": ".py",
   "mimetype": "text/x-python",
   "name": "python",
   "nbconvert_exporter": "python",
   "pygments_lexer": "ipython3",
   "version": "3.7.4"
  }
 },
 "nbformat": 4,
 "nbformat_minor": 4
}
