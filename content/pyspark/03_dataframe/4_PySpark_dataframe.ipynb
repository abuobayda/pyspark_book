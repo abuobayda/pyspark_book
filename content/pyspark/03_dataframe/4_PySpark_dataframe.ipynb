{
 "cells": [
  {
   "cell_type": "code",
   "execution_count": null,
   "metadata": {
    "tags": [
     "remove_cell"
    ]
   },
   "outputs": [],
   "source": [
    "!apt-get install openjdk-8-jdk-headless -qq > /dev/null\n",
    "!wget -q https://www-us.apache.org/dist/spark/spark-2.4.4/spark-2.4.4-bin-hadoop2.6.tgz\n",
    "!tar xvf spark-2.4.4-bin-hadoop2.6.tgz\n",
    "!pip install -q findspark\n",
    "import os\n",
    "os.environ[\"JAVA_HOME\"] = \"/usr/lib/jvm/java-8-openjdk-amd64\"\n",
    "os.environ[\"SPARK_HOME\"] = \"/content/spark-2.4.4-bin-hadoop2.6\"\n",
    "import findspark\n",
    "findspark.init()\n",
    "import pyspark\n",
    "sc = pyspark.SparkContext(appName=\"PySpark_dataframe\")"
   ]
  },
  {
   "cell_type": "markdown",
   "metadata": {},
   "source": [
    "# PySpark Dataframe"
   ]
  },
  {
   "cell_type": "code",
   "execution_count": null,
   "metadata": {
    "colab": {},
    "colab_type": "code",
    "id": "n563bOgH5uzn",
    "tags": [
     "hide_input"
    ]
   },
   "outputs": [],
   "source": [
    "from pyspark.sql import SparkSession\n",
    "from pyspark.sql.functions import udf\n",
    "from pyspark.sql.types import StringType\n",
    "from pyspark.sql.types import IntegerType\n",
    "from pyspark.sql.functions import desc\n",
    "from pyspark.sql.functions import asc\n",
    "from pyspark.sql.functions import sum as Fsum\n",
    "\n",
    "import datetime\n",
    "\n",
    "import numpy as np\n",
    "import pandas as pd\n",
    "%matplotlib inline\n",
    "import matplotlib.pyplot as plt"
   ]
  },
  {
   "cell_type": "code",
   "execution_count": null,
   "metadata": {
    "colab": {},
    "colab_type": "code",
    "id": "h5aUnXxc5dhL",
    "tags": [
     "hide_input"
    ]
   },
   "outputs": [],
   "source": [
    "import pyspark\n",
    "sc = pyspark.SparkContext(appName=\"PySpark_dataframe\")"
   ]
  },
  {
   "cell_type": "code",
   "execution_count": null,
   "metadata": {
    "colab": {},
    "colab_type": "code",
    "id": "NlSCteQf5zrl",
    "tags": [
     "hide_input"
    ]
   },
   "outputs": [],
   "source": [
    "spark = SparkSession \\\n",
    "    .builder \\\n",
    "    .appName(\"dataframe\") \\\n",
    "    .getOrCreate()"
   ]
  },
  {
   "cell_type": "markdown",
   "metadata": {
    "colab_type": "text",
    "id": "e-P3R3X34Bdb"
   },
   "source": [
    "## What are PySpark DataFrames?\n",
    "In Apache Spark, a DataFrame is a distributed collection of rows under named columns. In simple terms, it is same as a table in relational database or an Excel sheet with Column headers. It also shares some common characteristics with RDD:\n",
    "\n",
    "* Immutable in nature : We can create DataFrame / RDD once but can’t change it. And we can transform a DataFrame / RDD  after applying transformations.\n",
    "* Lazy Evaluations: Which means that a task is not executed until an action is performed.\n",
    "* Distributed: RDD and DataFrame both are distributed in nature.\n",
    "\n",
    "\n",
    "**PySpark SQL** is a Spark library for structured data. It provides more information about the structure of data and computation\n",
    "\n",
    "Designed for processing both structured (e.g relational database) and semi-structured data (e.g\n",
    "JSON)\n",
    "* DataframeAPI is available in Python, R, Scala, and Java\n",
    "* DataFrames in PySpark support both SQL queries ( SELECT * from table ) or expression methods\n",
    "( df.select() )"
   ]
  },
  {
   "cell_type": "markdown",
   "metadata": {
    "colab_type": "text",
    "id": "ytnJeXED4Y4D"
   },
   "source": [
    "### SparkSession - Entry point for DataFrame API\n",
    "* SparkContext is the main entry point for creating RDDs\n",
    "* SparkSession provides a single point of entry to interact with Spark DataFrames\n",
    "* SparkSession is used to create DataFrame, register DataFrames, execute SQL queries\n",
    "* SparkSession is available in PySpark shell as spark"
   ]
  },
  {
   "cell_type": "markdown",
   "metadata": {
    "colab_type": "text",
    "id": "-BPdH1XS4k_S"
   },
   "source": [
    "### Creating DataFrames in PySpark\n",
    "* Two different methods of creating DataFrames in PySpark\n",
    "  * From existing RDDs using SparkSession's createDataFrame() method\n",
    "  * From various data sources (CSV, JSON, TXT) using SparkSession's read method\n",
    "* Schema controls the data and helps DataFrames to optimize queries\n",
    "* Schema provides information about column name,type of data in the column, empty values etc.,"
   ]
  },
  {
   "cell_type": "markdown",
   "metadata": {
    "colab_type": "text",
    "id": "HIyaFA1Nt8tz"
   },
   "source": [
    "![alt text](https://www.analyticsvidhya.com/wp-content/uploads/2016/10/DataFrame-in-Spark.png)"
   ]
  },
  {
   "cell_type": "markdown",
   "metadata": {
    "colab_type": "text",
    "id": "544QRlqL41bs"
   },
   "source": [
    "#### Create a DataFrame from RDD"
   ]
  },
  {
   "cell_type": "code",
   "execution_count": null,
   "metadata": {
    "colab": {},
    "colab_type": "code",
    "id": "bT8v67ox1FwY"
   },
   "outputs": [],
   "source": [
    "iphones_RDD = sc.parallelize([\n",
    "                              (\"XS\", 2018, 5.65, 2.79, 6.24),\n",
    "                              (\"XR\", 2018, 5.94, 2.98, 6.84),\n",
    "                              (\"X10\", 2017, 5.65, 2.79, 6.13),\n",
    "                              (\"8Plus\", 2017, 6.23, 3.07, 7.12)\n",
    "                              ])"
   ]
  },
  {
   "cell_type": "code",
   "execution_count": null,
   "metadata": {
    "colab": {},
    "colab_type": "code",
    "id": "tLRbijNm5CQg"
   },
   "outputs": [],
   "source": [
    "names = ['Model', 'Year', 'Height', 'Width', 'Weight']"
   ]
  },
  {
   "cell_type": "code",
   "execution_count": null,
   "metadata": {
    "colab": {},
    "colab_type": "code",
    "id": "si27pjif58l7"
   },
   "outputs": [],
   "source": [
    "iphone_df = spark.createDataFrame(iphones_RDD, schema=names)"
   ]
  },
  {
   "cell_type": "code",
   "execution_count": null,
   "metadata": {
    "colab": {
     "base_uri": "https://localhost:8080/",
     "height": 35
    },
    "colab_type": "code",
    "id": "X1dz3-bC6FkE",
    "outputId": "6fb9474a-f827-495a-9bdc-94466124d082"
   },
   "outputs": [
    {
     "data": {
      "text/plain": [
       "pyspark.sql.dataframe.DataFrame"
      ]
     },
     "execution_count": 10,
     "metadata": {
      "tags": []
     },
     "output_type": "execute_result"
    }
   ],
   "source": [
    "type(iphone_df)"
   ]
  },
  {
   "cell_type": "markdown",
   "metadata": {
    "colab_type": "text",
    "id": "Y89PTp-B6YMY"
   },
   "source": [
    "#### Create a DataFrame from reading a CSV/JSON/TXT"
   ]
  },
  {
   "cell_type": "code",
   "execution_count": null,
   "metadata": {
    "colab": {},
    "colab_type": "code",
    "id": "oUazqNDx6Ih7"
   },
   "outputs": [],
   "source": [
    "df_csv = spark.read.csv(\"people.csv\", header=True, inferSchema=True)"
   ]
  },
  {
   "cell_type": "code",
   "execution_count": null,
   "metadata": {
    "colab": {},
    "colab_type": "code",
    "id": "mdSQeDJw6rcH"
   },
   "outputs": [],
   "source": [
    "df_txt = spark.read.text(\"5000_points.txt\")"
   ]
  },
  {
   "cell_type": "markdown",
   "metadata": {
    "colab_type": "text",
    "id": "PMD0pbG27hRV"
   },
   "source": [
    "spark.read.format(path, optional parameter)"
   ]
  },
  {
   "cell_type": "markdown",
   "metadata": {
    "colab_type": "text",
    "id": "E9F9vu-98Ela"
   },
   "source": [
    "### Your Turn:\n",
    "* Create a sample_list from tuples - ('Mona',20), ('Jennifer',34), ('John',20), ('Jim',26).\n",
    "* Create an RDD from the sample_list.\n",
    "* Create a PySpark DataFrame using the above RDD and schema.\n",
    "* Confirm the output as PySpark DataFrame."
   ]
  },
  {
   "cell_type": "code",
   "execution_count": null,
   "metadata": {
    "colab": {},
    "colab_type": "code",
    "id": "iNJsc8j77Uzz"
   },
   "outputs": [],
   "source": [
    "# Create a list of tuples\n",
    "sample_list = [____, ____, ____, ____]\n",
    "\n",
    "# Create a RDD from the list\n",
    "rdd = sc.____(sample_list)\n",
    "\n",
    "# Create a PySpark DataFrame\n",
    "names_df = spark.createDataFrame(____, ____=['Name', 'Age'])\n",
    "\n",
    "# Check the type of names_df\n",
    "print(\"The type of names_df is\", ____(names_df))"
   ]
  },
  {
   "cell_type": "code",
   "execution_count": null,
   "metadata": {
    "colab": {
     "base_uri": "https://localhost:8080/",
     "height": 35
    },
    "colab_type": "code",
    "id": "_RdPJ5Qy8QJB",
    "outputId": "be6f8231-37ad-424d-d083-cf97b09a7ea5"
   },
   "outputs": [
    {
     "name": "stdout",
     "output_type": "stream",
     "text": [
      "The type of names_df is <class 'pyspark.sql.dataframe.DataFrame'>\n"
     ]
    }
   ],
   "source": [
    "# Create a list of tuples\n",
    "sample_list = [('Mona',20), ('Jennifer',34), ('John',20), ('Jim',26)]\n",
    "\n",
    "# Create a RDD from the list\n",
    "rdd = sc.parallelize(sample_list)\n",
    "\n",
    "# Create a PySpark DataFrame\n",
    "names_df = spark.createDataFrame(rdd, schema=['Name', 'Age'])\n",
    "\n",
    "# Check the type of names_df\n",
    "print(\"The type of names_df is\", type(names_df))"
   ]
  },
  {
   "cell_type": "markdown",
   "metadata": {
    "colab_type": "text",
    "id": "aXSs6UAg8lSE"
   },
   "source": [
    "* Create a DataFrame from file_path variable.\n",
    "* Confirm the output as PySpark DataFrame."
   ]
  },
  {
   "cell_type": "code",
   "execution_count": null,
   "metadata": {
    "colab": {},
    "colab_type": "code",
    "id": "eXECbokC8vQF"
   },
   "outputs": [],
   "source": [
    "# Create an DataFrame from file_path\n",
    "people_df = ____(\"people.csv\", header=True, inferSchema=True)\n",
    "\n",
    "# Check the type of people_df\n",
    "print(\"The type of people_df is\", ____(people_df))"
   ]
  },
  {
   "cell_type": "code",
   "execution_count": null,
   "metadata": {
    "colab": {
     "base_uri": "https://localhost:8080/",
     "height": 35
    },
    "colab_type": "code",
    "id": "L7NJDapN8YV3",
    "outputId": "a77bbd52-e007-4bd6-efbd-ccfe17ced1c3"
   },
   "outputs": [
    {
     "name": "stdout",
     "output_type": "stream",
     "text": [
      "The type of people_df is <class 'pyspark.sql.dataframe.DataFrame'>\n"
     ]
    }
   ],
   "source": [
    "# Create an DataFrame from file_path\n",
    "people_df = spark.read.csv(\"people.csv\", header=True, inferSchema=True)\n",
    "\n",
    "# Check the type of people_df\n",
    "print(\"The type of people_df is\", type(people_df))"
   ]
  },
  {
   "cell_type": "markdown",
   "metadata": {
    "colab_type": "text",
    "id": "XssBRNHy82aJ"
   },
   "source": [
    "## Interacting with PySpark DataFrames"
   ]
  },
  {
   "cell_type": "markdown",
   "metadata": {
    "colab_type": "text",
    "id": "O8KFM8Wm8-3p"
   },
   "source": [
    "### DataFrame operators in PySpark\n",
    "* DataFrame operations: Transformations and Actions\n",
    "* DataFrame Transformations:\n",
    "  * select(), lter(), groupby(), orderby(), dropDuplicates() and withColumnRenamed()\n",
    "* DataFrameActions :\n",
    "  * printSchema(), head(), show(), count(), columns() and describe()"
   ]
  },
  {
   "cell_type": "markdown",
   "metadata": {
    "colab_type": "text",
    "id": "yJx4NVzRBEEw"
   },
   "source": [
    "#### printSchema()\n",
    "* printSchema() operation prints the types of columns in the DataFrame"
   ]
  },
  {
   "cell_type": "code",
   "execution_count": null,
   "metadata": {
    "colab": {
     "base_uri": "https://localhost:8080/",
     "height": 1000
    },
    "colab_type": "code",
    "id": "FcKHtDPM98Aw",
    "outputId": "079b383b-29b5-4ac9-cbad-154353be3381"
   },
   "outputs": [
    {
     "name": "stdout",
     "output_type": "stream",
     "text": [
      "root\n",
      " |-- _c0: string (nullable = true)\n",
      " |-- Name: string (nullable = true)\n",
      " |-- Age: string (nullable = true)\n",
      " |-- Photo: string (nullable = true)\n",
      " |-- Nationality: string (nullable = true)\n",
      " |-- Flag: string (nullable = true)\n",
      " |-- Overall: string (nullable = true)\n",
      " |-- Potential: string (nullable = true)\n",
      " |-- Club: string (nullable = true)\n",
      " |-- Club Logo: string (nullable = true)\n",
      " |-- Value: string (nullable = true)\n",
      " |-- Wage: string (nullable = true)\n",
      " |-- Special: string (nullable = true)\n",
      " |-- Acceleration: string (nullable = true)\n",
      " |-- Aggression: string (nullable = true)\n",
      " |-- Agility: string (nullable = true)\n",
      " |-- Balance: string (nullable = true)\n",
      " |-- Ball control: string (nullable = true)\n",
      " |-- Composure: string (nullable = true)\n",
      " |-- Crossing: string (nullable = true)\n",
      " |-- Curve: string (nullable = true)\n",
      " |-- Dribbling: string (nullable = true)\n",
      " |-- Finishing: string (nullable = true)\n",
      " |-- Free kick accuracy: string (nullable = true)\n",
      " |-- GK diving: string (nullable = true)\n",
      " |-- GK handling: string (nullable = true)\n",
      " |-- GK kicking: string (nullable = true)\n",
      " |-- GK positioning: string (nullable = true)\n",
      " |-- GK reflexes: string (nullable = true)\n",
      " |-- Heading accuracy: string (nullable = true)\n",
      " |-- Interceptions: string (nullable = true)\n",
      " |-- Jumping: string (nullable = true)\n",
      " |-- Long passing: string (nullable = true)\n",
      " |-- Long shots: string (nullable = true)\n",
      " |-- Marking: string (nullable = true)\n",
      " |-- Penalties: string (nullable = true)\n",
      " |-- Positioning: string (nullable = true)\n",
      " |-- Reactions: string (nullable = true)\n",
      " |-- Short passing: string (nullable = true)\n",
      " |-- Shot power: string (nullable = true)\n",
      " |-- Sliding tackle: string (nullable = true)\n",
      " |-- Sprint speed: string (nullable = true)\n",
      " |-- Stamina: string (nullable = true)\n",
      " |-- Standing tackle: string (nullable = true)\n",
      " |-- Strength: string (nullable = true)\n",
      " |-- Vision: string (nullable = true)\n",
      " |-- Volleys: string (nullable = true)\n",
      " |-- CAM: string (nullable = true)\n",
      " |-- CB: string (nullable = true)\n",
      " |-- CDM: string (nullable = true)\n",
      " |-- CF: string (nullable = true)\n",
      " |-- CM: string (nullable = true)\n",
      " |-- ID: string (nullable = true)\n",
      " |-- LAM: string (nullable = true)\n",
      " |-- LB: string (nullable = true)\n",
      " |-- LCB: string (nullable = true)\n",
      " |-- LCM: string (nullable = true)\n",
      " |-- LDM: string (nullable = true)\n",
      " |-- LF: string (nullable = true)\n",
      " |-- LM: string (nullable = true)\n",
      " |-- LS: string (nullable = true)\n",
      " |-- LW: string (nullable = true)\n",
      " |-- LWB: string (nullable = true)\n",
      " |-- Preferred Positions: string (nullable = true)\n",
      " |-- RAM: string (nullable = true)\n",
      " |-- RB: string (nullable = true)\n",
      " |-- RCB: string (nullable = true)\n",
      " |-- RCM: string (nullable = true)\n",
      " |-- RDM: string (nullable = true)\n",
      " |-- RF: string (nullable = true)\n",
      " |-- RM: string (nullable = true)\n",
      " |-- RS: string (nullable = true)\n",
      " |-- RW: string (nullable = true)\n",
      " |-- RWB: string (nullable = true)\n",
      " |-- ST: string (nullable = true)\n",
      "\n"
     ]
    }
   ],
   "source": [
    "players = spark.read.csv('Fifa2018_dataset.csv', header=True)\n",
    "players.printSchema()"
   ]
  },
  {
   "cell_type": "markdown",
   "metadata": {
    "colab_type": "text",
    "id": "ulWGd-CuBLF4"
   },
   "source": [
    "#### columns() actions\n",
    "* columns() operator prints the columns of a DataFrame"
   ]
  },
  {
   "cell_type": "code",
   "execution_count": null,
   "metadata": {
    "colab": {
     "base_uri": "https://localhost:8080/",
     "height": 1000
    },
    "colab_type": "code",
    "id": "-Y4yW27DBP01",
    "outputId": "66b76ece-1539-41ff-fdd0-d54d62d41072"
   },
   "outputs": [
    {
     "data": {
      "text/plain": [
       "['_c0',\n",
       " 'Name',\n",
       " 'Age',\n",
       " 'Photo',\n",
       " 'Nationality',\n",
       " 'Flag',\n",
       " 'Overall',\n",
       " 'Potential',\n",
       " 'Club',\n",
       " 'Club Logo',\n",
       " 'Value',\n",
       " 'Wage',\n",
       " 'Special',\n",
       " 'Acceleration',\n",
       " 'Aggression',\n",
       " 'Agility',\n",
       " 'Balance',\n",
       " 'Ball control',\n",
       " 'Composure',\n",
       " 'Crossing',\n",
       " 'Curve',\n",
       " 'Dribbling',\n",
       " 'Finishing',\n",
       " 'Free kick accuracy',\n",
       " 'GK diving',\n",
       " 'GK handling',\n",
       " 'GK kicking',\n",
       " 'GK positioning',\n",
       " 'GK reflexes',\n",
       " 'Heading accuracy',\n",
       " 'Interceptions',\n",
       " 'Jumping',\n",
       " 'Long passing',\n",
       " 'Long shots',\n",
       " 'Marking',\n",
       " 'Penalties',\n",
       " 'Positioning',\n",
       " 'Reactions',\n",
       " 'Short passing',\n",
       " 'Shot power',\n",
       " 'Sliding tackle',\n",
       " 'Sprint speed',\n",
       " 'Stamina',\n",
       " 'Standing tackle',\n",
       " 'Strength',\n",
       " 'Vision',\n",
       " 'Volleys',\n",
       " 'CAM',\n",
       " 'CB',\n",
       " 'CDM',\n",
       " 'CF',\n",
       " 'CM',\n",
       " 'ID',\n",
       " 'LAM',\n",
       " 'LB',\n",
       " 'LCB',\n",
       " 'LCM',\n",
       " 'LDM',\n",
       " 'LF',\n",
       " 'LM',\n",
       " 'LS',\n",
       " 'LW',\n",
       " 'LWB',\n",
       " 'Preferred Positions',\n",
       " 'RAM',\n",
       " 'RB',\n",
       " 'RCB',\n",
       " 'RCM',\n",
       " 'RDM',\n",
       " 'RF',\n",
       " 'RM',\n",
       " 'RS',\n",
       " 'RW',\n",
       " 'RWB',\n",
       " 'ST']"
      ]
     },
     "execution_count": 19,
     "metadata": {
      "tags": []
     },
     "output_type": "execute_result"
    }
   ],
   "source": [
    "players.columns"
   ]
  },
  {
   "cell_type": "markdown",
   "metadata": {
    "colab_type": "text",
    "id": "g4r2exBcBczY"
   },
   "source": [
    "#### describe() actions\n",
    "* describe() operation compute summary statistics of numerical columns in the DataFrame"
   ]
  },
  {
   "cell_type": "code",
   "execution_count": null,
   "metadata": {
    "colab": {
     "base_uri": "https://localhost:8080/",
     "height": 210
    },
    "colab_type": "code",
    "id": "XxlwgtT7Bh83",
    "outputId": "99f461b1-a6f4-4809-b0a4-a089b657dcfa"
   },
   "outputs": [
    {
     "name": "stdout",
     "output_type": "stream",
     "text": [
      "+-------+-----------------+-------------+------------------+--------------------+-----------+--------------------+------------------+-----------------+--------------------+--------------------+-----+-----+------------------+------------------+-----------------+------------------+-----------------+------------------+------------------+------------------+------------------+------------------+-----------------+------------------+-----------------+------------------+------------------+------------------+------------------+-----------------+-----------------+------------------+------------------+------------------+------------------+-----------------+------------------+-----------------+------------------+------------------+------------------+------------------+------------------+------------------+-----------------+------------------+------------------+------------------+------------------+-----------------+-----------------+------------------+------------------+------------------+------------------+------------------+------------------+-----------------+-----------------+------------------+-----------------+------------------+-----------------+-------------------+------------------+------------------+------------------+------------------+-----------------+-----------------+------------------+-----------------+------------------+-----------------+-----------------+\n",
      "|summary|              _c0|         Name|               Age|               Photo|Nationality|                Flag|           Overall|        Potential|                Club|           Club Logo|Value| Wage|           Special|      Acceleration|       Aggression|           Agility|          Balance|      Ball control|         Composure|          Crossing|             Curve|         Dribbling|        Finishing|Free kick accuracy|        GK diving|       GK handling|        GK kicking|    GK positioning|       GK reflexes| Heading accuracy|    Interceptions|           Jumping|      Long passing|        Long shots|           Marking|        Penalties|       Positioning|        Reactions|     Short passing|        Shot power|    Sliding tackle|      Sprint speed|           Stamina|   Standing tackle|         Strength|            Vision|           Volleys|               CAM|                CB|              CDM|               CF|                CM|                ID|               LAM|                LB|               LCB|               LCM|              LDM|               LF|                LM|               LS|                LW|              LWB|Preferred Positions|               RAM|                RB|               RCB|               RCM|              RDM|               RF|                RM|               RS|                RW|              RWB|               ST|\n",
      "+-------+-----------------+-------------+------------------+--------------------+-----------+--------------------+------------------+-----------------+--------------------+--------------------+-----+-----+------------------+------------------+-----------------+------------------+-----------------+------------------+------------------+------------------+------------------+------------------+-----------------+------------------+-----------------+------------------+------------------+------------------+------------------+-----------------+-----------------+------------------+------------------+------------------+------------------+-----------------+------------------+-----------------+------------------+------------------+------------------+------------------+------------------+------------------+-----------------+------------------+------------------+------------------+------------------+-----------------+-----------------+------------------+------------------+------------------+------------------+------------------+------------------+-----------------+-----------------+------------------+-----------------+------------------+-----------------+-------------------+------------------+------------------+------------------+------------------+-----------------+-----------------+------------------+-----------------+------------------+-----------------+-----------------+\n",
      "|  count|            14648|        14648|             14648|               14648|      14648|               14648|             14648|            14648|               14430|               14648|14648|14648|             14648|             14648|            14648|             14648|            14648|             14648|             14648|             14648|             14648|             14648|            14648|             14648|            14648|             14648|             14648|             14648|             14648|            14648|            14648|             14648|             14648|             14648|             14648|            14648|             14648|            14648|             14648|             14648|             14648|             14648|             14648|             14648|            14648|             14648|             14648|             13194|             13194|            13194|            13194|             13194|             14648|             13194|             13194|             13194|             13194|            13194|            13194|             13194|            13194|             13194|            13194|              14648|             13194|             13194|             13194|             13194|            13194|            13194|             13194|            13194|             13194|            13194|            13194|\n",
      "|   mean|           7323.5|         null|26.034202621518297|                null|       null|                null| 68.57181867831785|72.30065537957401|                null|                null| null| null|1652.3669442927362| 65.81252572369324|58.43761140819964| 64.86985737794843|64.30678627679244| 60.80904522613066| 60.59133658268689| 52.35196374622357|49.839733918529696|57.377355894896134|47.35068059947752|45.501951921101295|16.32278351220179|16.140679472281086| 16.01687965557302| 16.18121539408025| 16.46441512271826|54.51628385327391| 49.0443650848156| 66.09891013777504| 54.98177817506704|49.942908117752005|46.177493641300615|50.67061076533753|51.975013728720484|64.42313243076077| 60.86131386861314|58.221810699588474|47.311822051352465| 66.09299608220496| 65.52527819755461|49.454983148772264|67.08955428885379| 55.22015258780672|45.398056258982955|61.234652114597544| 57.41405184174625|58.93891162649689|60.96816734879491|60.649916628770654|202745.64766521027|61.234652114597544|58.802637562528425| 57.41405184174625|60.649916628770654|58.93891162649689|60.96816734879491|61.976277095649536|60.09860542670911|61.240867060785206|59.59307260876156|               null|61.234652114597544|58.802637562528425| 57.41405184174625|60.649916628770654|58.93891162649689|60.96816734879491|61.976277095649536|60.09860542670911|61.240867060785206|59.59307260876156|60.09860542670911|\n",
      "| stddev|4228.657706648766|         null| 4.326977305977739|                null|       null|                null|5.3462129285793365|5.689131080121517|                null|                null| null| null|248.52881366358713|14.454392161365226|16.99929161520208|14.421955453471732| 14.0016963318677|15.927950064074578|11.990940750277469|18.178945699167716|18.443020756360507|18.514751569957085|19.33819468528398|17.726082080250304|17.66015781933869|16.911612302912864|16.427988789233343|17.175067696183643|17.979872796951845| 17.1392772897159|20.55785747911336|11.824667001791703|14.822333348465321|19.004063775712584| 21.82866061555514|15.66034328078675| 19.24523676446252|7.754727074606576|13.993049437310432|16.959809466163726| 21.73139035494182|14.155644244416525|15.252526624437023|21.945130500423605|12.06627537629348|14.112708290067426|17.801246802802222| 9.160558272687005|11.859504466472988|9.566043667463049|9.296772167506132| 7.797530569125701|32683.839829231107| 9.160558272687005| 9.236494062876343|11.859504466472988| 7.797530569125701|9.566043667463049|9.296772167506132| 8.650588539732542|8.494649955711592|  9.41646371329798| 8.42767530949638|               null| 9.160558272687005| 9.236494062876343|11.859504466472988| 7.797530569125701|9.566043667463049|9.296772167506132| 8.650588539732542|8.494649955711592|  9.41646371329798| 8.42767530949638|8.494649955711592|\n",
      "|    min|                0|     A. Abbas|                16|https://cdn.sofif...|    Albania|https://cdn.sofif...|                60|               60| SSV Jahn Regensburg|https://cdn.sofif...|   €0|   €0|              1000|                12|               11|                14|               16|                10|                11|                10|                10|                10|               10|                10|                1|                 1|                 1|                 1|                 1|               10|               10|                25|                10|                10|                10|               10|                10|               32|                11|                10|                10|                12|                13|                10|               21|                10|                10|              28.0|              27.0|             33.0|             28.0|              35.0|            101317|              28.0|              34.0|              27.0|              35.0|             33.0|             28.0|              30.0|             32.0|              28.0|             36.0|               CAM |              28.0|              34.0|              27.0|              35.0|             33.0|             28.0|              30.0|             32.0|              28.0|             36.0|             32.0|\n",
      "|    max|             9999|Óscar Whalley|                44|https://cdn.sofif...|   Zimbabwe|https://cdn.sofif...|                94|               94|       Śląsk Wrocław|https://cdn.sofif...|  €9M|  €9K|               999|                96|               96|                96|               96|                95|                96|                91|                92|                97|               95|                93|               91|                91|                95|                91|                90|               94|               92|                95|                93|                92|                92|               92|                95|               96|                92|                94|                91|                96|                95|                92|               98|                94|                91|              92.0|              87.0|             85.0|             92.0|              87.0|              9833|              92.0|              84.0|              87.0|              87.0|             85.0|             92.0|              90.0|             92.0|              91.0|             84.0|          ST RW RM |              92.0|              84.0|              87.0|              87.0|             85.0|             92.0|              90.0|             92.0|              91.0|             84.0|             92.0|\n",
      "+-------+-----------------+-------------+------------------+--------------------+-----------+--------------------+------------------+-----------------+--------------------+--------------------+-----+-----+------------------+------------------+-----------------+------------------+-----------------+------------------+------------------+------------------+------------------+------------------+-----------------+------------------+-----------------+------------------+------------------+------------------+------------------+-----------------+-----------------+------------------+------------------+------------------+------------------+-----------------+------------------+-----------------+------------------+------------------+------------------+------------------+------------------+------------------+-----------------+------------------+------------------+------------------+------------------+-----------------+-----------------+------------------+------------------+------------------+------------------+------------------+------------------+-----------------+-----------------+------------------+-----------------+------------------+-----------------+-------------------+------------------+------------------+------------------+------------------+-----------------+-----------------+------------------+-----------------+------------------+-----------------+-----------------+\n",
      "\n"
     ]
    }
   ],
   "source": [
    "players.describe().show()"
   ]
  },
  {
   "cell_type": "markdown",
   "metadata": {
    "colab_type": "text",
    "id": "2h4lU1Z79P-F"
   },
   "source": [
    "#### select() and show() operations\n",
    "* select() transformation subsets the columns in the DataFrame"
   ]
  },
  {
   "cell_type": "code",
   "execution_count": null,
   "metadata": {
    "colab": {},
    "colab_type": "code",
    "id": "fd5Alszw89gI"
   },
   "outputs": [],
   "source": [
    "df_id_age = players.select('Age')"
   ]
  },
  {
   "cell_type": "markdown",
   "metadata": {
    "colab_type": "text",
    "id": "j8yduxH5-TD5"
   },
   "source": [
    "* show() action prints first rows in the DataFrame"
   ]
  },
  {
   "cell_type": "code",
   "execution_count": null,
   "metadata": {
    "colab": {
     "base_uri": "https://localhost:8080/",
     "height": 173
    },
    "colab_type": "code",
    "id": "MS-vbBwJ-QOp",
    "outputId": "a744d24c-b092-423b-c1ef-e613ba3a48c8"
   },
   "outputs": [
    {
     "name": "stdout",
     "output_type": "stream",
     "text": [
      "+---+\n",
      "|Age|\n",
      "+---+\n",
      "| 32|\n",
      "| 30|\n",
      "| 25|\n",
      "+---+\n",
      "only showing top 3 rows\n",
      "\n"
     ]
    }
   ],
   "source": [
    "df_id_age.show(3)"
   ]
  },
  {
   "cell_type": "markdown",
   "metadata": {
    "colab_type": "text",
    "id": "oh_p6kHY-iWR"
   },
   "source": [
    "#### filter() and show() operations\n",
    "* filter() transformation filters out the rows based on a condition"
   ]
  },
  {
   "cell_type": "code",
   "execution_count": null,
   "metadata": {
    "colab": {
     "base_uri": "https://localhost:8080/",
     "height": 193
    },
    "colab_type": "code",
    "id": "I1Uqb3k3-e7f",
    "outputId": "38b67dc1-5360-4fab-ed3f-4fe3ff3ddd2d"
   },
   "outputs": [
    {
     "name": "stdout",
     "output_type": "stream",
     "text": [
      "+---+-----------------+---+--------------------+-----------+--------------------+-------+---------+-------------------+--------------------+------+-----+-------+------------+----------+-------+-------+------------+---------+--------+-----+---------+---------+------------------+---------+-----------+----------+--------------+-----------+----------------+-------------+-------+------------+----------+-------+---------+-----------+---------+-------------+----------+--------------+------------+-------+---------------+--------+------+-------+----+----+----+----+----+------+----+----+----+----+----+----+----+----+----+----+-------------------+----+----+----+----+----+----+----+----+----+----+----+\n",
      "|_c0|             Name|Age|               Photo|Nationality|                Flag|Overall|Potential|               Club|           Club Logo| Value| Wage|Special|Acceleration|Aggression|Agility|Balance|Ball control|Composure|Crossing|Curve|Dribbling|Finishing|Free kick accuracy|GK diving|GK handling|GK kicking|GK positioning|GK reflexes|Heading accuracy|Interceptions|Jumping|Long passing|Long shots|Marking|Penalties|Positioning|Reactions|Short passing|Shot power|Sliding tackle|Sprint speed|Stamina|Standing tackle|Strength|Vision|Volleys| CAM|  CB| CDM|  CF|  CM|    ID| LAM|  LB| LCB| LCM| LDM|  LF|  LM|  LS|  LW| LWB|Preferred Positions| RAM|  RB| RCB| RCM| RDM|  RF|  RM|  RS|  RW| RWB|  ST|\n",
      "+---+-----------------+---+--------------------+-----------+--------------------+-------+---------+-------------------+--------------------+------+-----+-------+------------+----------+-------+-------+------------+---------+--------+-----+---------+---------+------------------+---------+-----------+----------+--------------+-----------+----------------+-------------+-------+------------+----------+-------+---------+-----------+---------+-------------+----------+--------------+------------+-------+---------------+--------+------+-------+----+----+----+----+----+------+----+----+----+----+----+----+----+----+----+----+-------------------+----+----+----+----+----+----+----+----+----+----+----+\n",
      "|  0|Cristiano Ronaldo| 32|https://cdn.sofif...|   Portugal|https://cdn.sofif...|     94|       94|     Real Madrid CF|https://cdn.sofif...|€95.5M|€565K|   2228|          89|        63|     89|     63|          93|       95|      85|   81|       91|       94|                76|        7|         11|        15|            14|         11|              88|           29|     95|          77|        92|     22|       85|         95|       96|           83|        94|            23|          91|     92|             31|      80|    85|     88|89.0|53.0|62.0|91.0|82.0| 20801|89.0|61.0|53.0|82.0|62.0|91.0|89.0|92.0|91.0|66.0|             ST LW |89.0|61.0|53.0|82.0|62.0|91.0|89.0|92.0|91.0|66.0|92.0|\n",
      "|  1|         L. Messi| 30|https://cdn.sofif...|  Argentina|https://cdn.sofif...|     93|       93|       FC Barcelona|https://cdn.sofif...| €105M|€565K|   2154|          92|        48|     90|     95|          95|       96|      77|   89|       97|       95|                90|        6|         11|        15|            14|          8|              71|           22|     68|          87|        88|     13|       74|         93|       95|           88|        85|            26|          87|     73|             28|      59|    90|     85|92.0|45.0|59.0|92.0|84.0|158023|92.0|57.0|45.0|84.0|59.0|92.0|90.0|88.0|91.0|62.0|                RW |92.0|57.0|45.0|84.0|59.0|92.0|90.0|88.0|91.0|62.0|88.0|\n",
      "|  2|           Neymar| 25|https://cdn.sofif...|     Brazil|https://cdn.sofif...|     92|       94|Paris Saint-Germain|https://cdn.sofif...| €123M|€280K|   2100|          94|        56|     96|     82|          95|       92|      75|   81|       96|       89|                84|        9|          9|        15|            15|         11|              62|           36|     61|          75|        77|     21|       81|         90|       88|           81|        80|            33|          90|     78|             24|      53|    80|     83|88.0|46.0|59.0|88.0|79.0|190871|88.0|59.0|46.0|79.0|59.0|88.0|87.0|84.0|89.0|64.0|                LW |88.0|59.0|46.0|79.0|59.0|88.0|87.0|84.0|89.0|64.0|84.0|\n",
      "+---+-----------------+---+--------------------+-----------+--------------------+-------+---------+-------------------+--------------------+------+-----+-------+------------+----------+-------+-------+------------+---------+--------+-----+---------+---------+------------------+---------+-----------+----------+--------------+-----------+----------------+-------------+-------+------------+----------+-------+---------+-----------+---------+-------------+----------+--------------+------------+-------+---------------+--------+------+-------+----+----+----+----+----+------+----+----+----+----+----+----+----+----+----+----+-------------------+----+----+----+----+----+----+----+----+----+----+----+\n",
      "only showing top 3 rows\n",
      "\n"
     ]
    }
   ],
   "source": [
    "new_df_age21 = players.filter(players.Age > 21)\n",
    "new_df_age21.show(3)"
   ]
  },
  {
   "cell_type": "markdown",
   "metadata": {
    "colab_type": "text",
    "id": "uoQ4oAPa_c5W"
   },
   "source": [
    "#### groupby() and count() operations\n",
    "* groupby() operation can be used to group a variable"
   ]
  },
  {
   "cell_type": "code",
   "execution_count": null,
   "metadata": {
    "colab": {
     "base_uri": "https://localhost:8080/",
     "height": 183
    },
    "colab_type": "code",
    "id": "deY3cKpL-_1X",
    "outputId": "4b220429-fb68-46ec-ed01-6522a52e8ed1"
   },
   "outputs": [
    {
     "ename": "NameError",
     "evalue": "ignored",
     "output_type": "error",
     "traceback": [
      "\u001b[0;31m---------------------------------------------------------------------------\u001b[0m",
      "\u001b[0;31mNameError\u001b[0m                                 Traceback (most recent call last)",
      "\u001b[0;32m<ipython-input-1-dbff4099365c>\u001b[0m in \u001b[0;36m<module>\u001b[0;34m()\u001b[0m\n\u001b[0;32m----> 1\u001b[0;31m \u001b[0mtest_df_age_group\u001b[0m \u001b[0;34m=\u001b[0m \u001b[0mplayers\u001b[0m\u001b[0;34m.\u001b[0m\u001b[0mgroupby\u001b[0m\u001b[0;34m(\u001b[0m\u001b[0;34m'Age'\u001b[0m\u001b[0;34m)\u001b[0m\u001b[0;34m\u001b[0m\u001b[0;34m\u001b[0m\u001b[0m\n\u001b[0m\u001b[1;32m      2\u001b[0m \u001b[0mtest_df_age_group\u001b[0m\u001b[0;34m.\u001b[0m\u001b[0mcount\u001b[0m\u001b[0;34m(\u001b[0m\u001b[0;34m)\u001b[0m\u001b[0;34m.\u001b[0m\u001b[0mshow\u001b[0m\u001b[0;34m(\u001b[0m\u001b[0;36m3\u001b[0m\u001b[0;34m)\u001b[0m\u001b[0;34m\u001b[0m\u001b[0;34m\u001b[0m\u001b[0m\n",
      "\u001b[0;31mNameError\u001b[0m: name 'players' is not defined"
     ]
    }
   ],
   "source": [
    "test_df_age_group = players.groupby('Age')\n",
    "test_df_age_group.count().show(3)"
   ]
  },
  {
   "cell_type": "markdown",
   "metadata": {
    "colab_type": "text",
    "id": "wf8pFvyT_wP4"
   },
   "source": [
    "#### orderby() Transformations\n",
    "* orderby() operation sorts the DataFrame based one or more columns"
   ]
  },
  {
   "cell_type": "code",
   "execution_count": null,
   "metadata": {
    "colab": {
     "base_uri": "https://localhost:8080/",
     "height": 173
    },
    "colab_type": "code",
    "id": "7Z_TbBue_1ow",
    "outputId": "31c091b8-6182-421c-e47b-b016946a5b7a"
   },
   "outputs": [
    {
     "name": "stdout",
     "output_type": "stream",
     "text": [
      "+---+-----+\n",
      "|Age|count|\n",
      "+---+-----+\n",
      "| 16|    3|\n",
      "| 17|   63|\n",
      "| 18|  195|\n",
      "+---+-----+\n",
      "only showing top 3 rows\n",
      "\n"
     ]
    }
   ],
   "source": [
    "test_df_age_group.count().orderBy('Age').show(3)"
   ]
  },
  {
   "cell_type": "markdown",
   "metadata": {
    "colab_type": "text",
    "id": "E3VW3HFOABZG"
   },
   "source": [
    "#### dropDuplicates()\n",
    "* dropDuplicates() removes the duplicate rows of a DataFrame"
   ]
  },
  {
   "cell_type": "code",
   "execution_count": null,
   "metadata": {
    "colab": {
     "base_uri": "https://localhost:8080/",
     "height": 35
    },
    "colab_type": "code",
    "id": "aZ6_cgSGAFrt",
    "outputId": "47e92904-40f9-4bc6-80f7-48688cb0a30f"
   },
   "outputs": [
    {
     "data": {
      "text/plain": [
       "14570"
      ]
     },
     "execution_count": 26,
     "metadata": {
      "tags": []
     },
     "output_type": "execute_result"
    }
   ],
   "source": [
    "test_df_no_dup = players.select(['Name','Nationality','Age']).dropDuplicates()\n",
    "test_df_no_dup.count()"
   ]
  },
  {
   "cell_type": "markdown",
   "metadata": {
    "colab_type": "text",
    "id": "WGS8-8xrAj05"
   },
   "source": [
    "#### withColumnRenamed Transformations\n",
    "* withColumnRenamed() renames a column in the DataFrame"
   ]
  },
  {
   "cell_type": "code",
   "execution_count": null,
   "metadata": {
    "colab": {
     "base_uri": "https://localhost:8080/",
     "height": 173
    },
    "colab_type": "code",
    "id": "OD1Xzk_3APS9",
    "outputId": "d4de5844-437f-486e-e39c-59bf4b35beca"
   },
   "outputs": [
    {
     "name": "stdout",
     "output_type": "stream",
     "text": [
      "+-----------+-----------+---+\n",
      "|  Full Name|Nationality|Age|\n",
      "+-----------+-----------+---+\n",
      "|W. Sneijder|Netherlands| 33|\n",
      "|  A. Correa|  Argentina| 22|\n",
      "|    Mariano|     Brazil| 31|\n",
      "+-----------+-----------+---+\n",
      "only showing top 3 rows\n",
      "\n"
     ]
    }
   ],
   "source": [
    "test_df_name = test_df_no_dup.withColumnRenamed('Name', 'Full Name')\n",
    "test_df_name.show(3)"
   ]
  },
  {
   "cell_type": "markdown",
   "metadata": {
    "colab_type": "text",
    "id": "-vWy780jA9CB"
   },
   "source": [
    "### Your Turn:"
   ]
  },
  {
   "cell_type": "code",
   "execution_count": null,
   "metadata": {
    "colab": {
     "base_uri": "https://localhost:8080/",
     "height": 35
    },
    "colab_type": "code",
    "id": "7TseVekmCbGP",
    "outputId": "7eb3f186-ff8a-492e-de70-bf4407ebaf51"
   },
   "outputs": [
    {
     "data": {
      "text/plain": [
       "['_c0', 'person_id', 'name', 'sex', 'date of birth']"
      ]
     },
     "execution_count": 28,
     "metadata": {
      "tags": []
     },
     "output_type": "execute_result"
    }
   ],
   "source": [
    "people_df = spark.read.csv('people.csv', header=True, inferSchema=True)\n",
    "people_df.columns"
   ]
  },
  {
   "cell_type": "markdown",
   "metadata": {
    "colab_type": "text",
    "id": "mmERYUP9DB_4"
   },
   "source": [
    "* Print the first 10 observations in the people_df DataFrame.\n",
    "* Count the number of rows in the people_df DataFrame.\n",
    "* How many columns does people_df DataFrame have and what are their names?"
   ]
  },
  {
   "cell_type": "code",
   "execution_count": null,
   "metadata": {
    "colab": {},
    "colab_type": "code",
    "id": "rILfzpJ9A34r"
   },
   "outputs": [],
   "source": [
    "# Print the first 10 observations \n",
    "people_df.____(10)\n",
    "\n",
    "# Count the number of rows \n",
    "print(\"There are {} rows in the people_df DataFrame.\".format(people_df.____()))\n",
    "\n",
    "# Count the number of columns and their names\n",
    "print(\"There are {} columns in the people_df DataFrame and their names are {}\".format(len(people_df.____), people_df.____))"
   ]
  },
  {
   "cell_type": "code",
   "execution_count": null,
   "metadata": {
    "colab": {
     "base_uri": "https://localhost:8080/",
     "height": 328
    },
    "colab_type": "code",
    "id": "9CXkx8Y-DNNN",
    "outputId": "a8602948-e21f-4740-91d6-650c1b1087c1"
   },
   "outputs": [
    {
     "name": "stdout",
     "output_type": "stream",
     "text": [
      "+---+---------+----------------+------+-------------+\n",
      "|_c0|person_id|            name|   sex|date of birth|\n",
      "+---+---------+----------------+------+-------------+\n",
      "|  0|      100|  Penelope Lewis|female|   1990-08-31|\n",
      "|  1|      101|   David Anthony|  male|   1971-10-14|\n",
      "|  2|      102|       Ida Shipp|female|   1962-05-24|\n",
      "|  3|      103|    Joanna Moore|female|   2017-03-10|\n",
      "|  4|      104|  Lisandra Ortiz|female|   2020-08-05|\n",
      "|  5|      105|   David Simmons|  male|   1999-12-30|\n",
      "|  6|      106|   Edward Hudson|  male|   1983-05-09|\n",
      "|  7|      107|    Albert Jones|  male|   1990-09-13|\n",
      "|  8|      108|Leonard Cavender|  male|   1958-08-08|\n",
      "|  9|      109|  Everett Vadala|  male|   2005-05-24|\n",
      "+---+---------+----------------+------+-------------+\n",
      "only showing top 10 rows\n",
      "\n",
      "There are 100000 rows in the people_df DataFrame.\n",
      "There are 5 columns in the people_df DataFrame and their names are ['_c0', 'person_id', 'name', 'sex', 'date of birth']\n"
     ]
    }
   ],
   "source": [
    "# Print the first 10 observations \n",
    "people_df.show(10)\n",
    "\n",
    "# Count the number of rows \n",
    "print(\"There are {} rows in the people_df DataFrame.\".format(people_df.count()))\n",
    "\n",
    "# Count the number of columns and their names\n",
    "print(\"There are {} columns in the people_df DataFrame and their names are {}\".format(len(people_df.columns), people_df.columns))"
   ]
  },
  {
   "cell_type": "markdown",
   "metadata": {
    "colab_type": "text",
    "id": "BsPfPFwHDUSq"
   },
   "source": [
    "* Select 'name', 'sex' and 'date of birth' columns from people_df and create people_df_sub DataFrame.\n",
    "* Print the first 10 observations in the people_df DataFrame.\n",
    "* Remove duplicate entries from people_df_sub DataFrame and create people_df_sub_nodup DataFrame.\n",
    "* How many rows are there before and after duplicates are removed?"
   ]
  },
  {
   "cell_type": "code",
   "execution_count": null,
   "metadata": {
    "colab": {},
    "colab_type": "code",
    "id": "kq55LmSYDOf1"
   },
   "outputs": [],
   "source": [
    "# Select name, sex and date of birth columns\n",
    "people_df_sub = people_df.____('name', ____, ____)\n",
    "\n",
    "# Print the first 10 observations from people_df_sub\n",
    "people_df_sub.____(____)\n",
    "\n",
    "# Remove duplicate entries from people_df_sub\n",
    "people_df_sub_nodup = people_df_sub.____()\n",
    "\n",
    "# Count the number of rows\n",
    "print(\"There were {} rows before removing duplicates, and {} rows after removing duplicates\".format(people_df_sub.____(), people_df_sub_nodup.____()))"
   ]
  },
  {
   "cell_type": "code",
   "execution_count": null,
   "metadata": {
    "colab": {
     "base_uri": "https://localhost:8080/",
     "height": 311
    },
    "colab_type": "code",
    "id": "AeRu2ivKD_M0",
    "outputId": "65bec3a0-3115-484c-ee04-98ca4cc33dcf"
   },
   "outputs": [
    {
     "name": "stdout",
     "output_type": "stream",
     "text": [
      "+----------------+------+-------------+\n",
      "|            name|   sex|date of birth|\n",
      "+----------------+------+-------------+\n",
      "|  Penelope Lewis|female|   1990-08-31|\n",
      "|   David Anthony|  male|   1971-10-14|\n",
      "|       Ida Shipp|female|   1962-05-24|\n",
      "|    Joanna Moore|female|   2017-03-10|\n",
      "|  Lisandra Ortiz|female|   2020-08-05|\n",
      "|   David Simmons|  male|   1999-12-30|\n",
      "|   Edward Hudson|  male|   1983-05-09|\n",
      "|    Albert Jones|  male|   1990-09-13|\n",
      "|Leonard Cavender|  male|   1958-08-08|\n",
      "|  Everett Vadala|  male|   2005-05-24|\n",
      "+----------------+------+-------------+\n",
      "only showing top 10 rows\n",
      "\n",
      "There were 100000 rows before removing duplicates, and 99998 rows after removing duplicates\n"
     ]
    }
   ],
   "source": [
    "# Select name, sex and date of birth columns\n",
    "people_df_sub = people_df.select('name', 'sex', 'date of birth')\n",
    "\n",
    "# Print the first 10 observations from people_df_sub\n",
    "people_df_sub.show(10)\n",
    "\n",
    "# Remove duplicate entries from people_df_sub\n",
    "people_df_sub_nodup = people_df_sub.dropDuplicates()\n",
    "\n",
    "# Count the number of rows\n",
    "print(\"There were {} rows before removing duplicates, and {} rows after removing duplicates\".format(people_df_sub.count(), people_df_sub_nodup.count()))"
   ]
  },
  {
   "cell_type": "markdown",
   "metadata": {
    "colab_type": "text",
    "id": "vx5tuBl3EBGs"
   },
   "source": [
    "* Filter the people_df DataFrame to select all rows where sex is female into people_df_female DataFrame.\n",
    "* Filter the people_df DataFrame to select all rows where sex is male into people_df_male DataFrame.\n",
    "* Count the number of rows in people_df_female and people_df_male DataFrames."
   ]
  },
  {
   "cell_type": "code",
   "execution_count": null,
   "metadata": {
    "colab": {},
    "colab_type": "code",
    "id": "OQtfzQnaEHOY"
   },
   "outputs": [],
   "source": [
    "# Filter people_df to select females \n",
    "people_df_female = people_df.____(people_df.____ == \"female\")\n",
    "\n",
    "# Filter people_df to select males\n",
    "people_df_male = people_df.____(____ == \"____\")\n",
    "\n",
    "# Count the number of rows \n",
    "print(\"There are {} rows in the people_df_female DataFrame and {} rows in the people_df_male DataFrame\".format(people_df_female.____(), people_df_male.____()))"
   ]
  },
  {
   "cell_type": "code",
   "execution_count": null,
   "metadata": {
    "colab": {
     "base_uri": "https://localhost:8080/",
     "height": 35
    },
    "colab_type": "code",
    "id": "-S5X_5i8EKVF",
    "outputId": "f11f77a5-5d17-483f-ac6f-9ebcaed74926"
   },
   "outputs": [
    {
     "name": "stdout",
     "output_type": "stream",
     "text": [
      "There are 49014 rows in the people_df_female DataFrame and 49066 rows in the people_df_male DataFrame\n"
     ]
    }
   ],
   "source": [
    "# Filter people_df to select females \n",
    "people_df_female = people_df.filter(people_df.sex == \"female\")\n",
    "\n",
    "# Filter people_df to select males\n",
    "people_df_male = people_df.filter(people_df.sex == \"male\")\n",
    "\n",
    "# Count the number of rows \n",
    "print(\"There are {} rows in the people_df_female DataFrame and {} rows in the people_df_male DataFrame\".format(people_df_female.count(), people_df_male.count()))"
   ]
  },
  {
   "cell_type": "markdown",
   "metadata": {
    "colab_type": "text",
    "id": "PPXUO7HVEaWE"
   },
   "source": [
    "## Interacting with DataFrames using pyspark SQL"
   ]
  },
  {
   "cell_type": "markdown",
   "metadata": {
    "colab_type": "text",
    "id": "sTOmi6x3GyYj"
   },
   "source": [
    "### DataFrame API vs SQL queries\n",
    "* In PySpark You can interact with SparkSQL through DataFrameAPI and SQL queries\n",
    "* The DataFrameAPI provides a programmatic domain-specic language (DSL) for data\n",
    "* DataFrame transformations and actions are easier to construct programmatically\n",
    "* SQL queries can be concise and easier to understand and portable\n",
    "* The operations on DataFrames can also be done using SQL queries"
   ]
  },
  {
   "cell_type": "markdown",
   "metadata": {
    "colab_type": "text",
    "id": "l0zBqy4cIML9"
   },
   "source": [
    "### SQL query to extract data"
   ]
  },
  {
   "cell_type": "code",
   "execution_count": null,
   "metadata": {
    "colab": {},
    "colab_type": "code",
    "id": "DUlnw251EmhQ"
   },
   "outputs": [],
   "source": [
    "people_df.createOrReplaceTempView(\"people_table\")"
   ]
  },
  {
   "cell_type": "code",
   "execution_count": null,
   "metadata": {
    "colab": {},
    "colab_type": "code",
    "id": "DwGEvq6CHbnt"
   },
   "outputs": [],
   "source": [
    "query = ''' SELECT name FROM people_table'''"
   ]
  },
  {
   "cell_type": "code",
   "execution_count": null,
   "metadata": {
    "colab": {
     "base_uri": "https://localhost:8080/",
     "height": 173
    },
    "colab_type": "code",
    "id": "RlIi7J4qHjic",
    "outputId": "e8456b54-b0c3-4e74-d77f-512a2406d2ef"
   },
   "outputs": [
    {
     "name": "stdout",
     "output_type": "stream",
     "text": [
      "+--------------+\n",
      "|          name|\n",
      "+--------------+\n",
      "|Penelope Lewis|\n",
      "| David Anthony|\n",
      "|     Ida Shipp|\n",
      "+--------------+\n",
      "only showing top 3 rows\n",
      "\n"
     ]
    }
   ],
   "source": [
    "people_name_df = spark.sql(query)\n",
    "people_name_df.show(3)"
   ]
  },
  {
   "cell_type": "markdown",
   "metadata": {
    "colab_type": "text",
    "id": "UXmzhlo-J1Ia"
   },
   "source": [
    "### Summarizing and grouping data using SQL queries"
   ]
  },
  {
   "cell_type": "code",
   "execution_count": null,
   "metadata": {
    "colab": {},
    "colab_type": "code",
    "id": "5M6WfPN3H9Qx"
   },
   "outputs": [],
   "source": [
    "players.createOrReplaceTempView('players_table')"
   ]
  },
  {
   "cell_type": "code",
   "execution_count": null,
   "metadata": {
    "colab": {},
    "colab_type": "code",
    "id": "pC3iiYSiI3ay"
   },
   "outputs": [],
   "source": [
    "query = ''' SELECT Age, count(Age) FROM players_table GROUP BY Age '''"
   ]
  },
  {
   "cell_type": "code",
   "execution_count": null,
   "metadata": {
    "colab": {
     "base_uri": "https://localhost:8080/",
     "height": 173
    },
    "colab_type": "code",
    "id": "47Px_7w1Jt3G",
    "outputId": "79dadcab-10b8-4fa2-f104-476990869036"
   },
   "outputs": [
    {
     "name": "stdout",
     "output_type": "stream",
     "text": [
      "+---+----------+\n",
      "|Age|count(Age)|\n",
      "+---+----------+\n",
      "| 29|      1092|\n",
      "| 30|       775|\n",
      "| 34|       256|\n",
      "+---+----------+\n",
      "only showing top 3 rows\n",
      "\n"
     ]
    }
   ],
   "source": [
    "spark.sql(query).show(3)"
   ]
  },
  {
   "cell_type": "markdown",
   "metadata": {
    "colab_type": "text",
    "id": "Frq1QbaIJ85x"
   },
   "source": [
    "### Filtering columns using SQL queries"
   ]
  },
  {
   "cell_type": "code",
   "execution_count": null,
   "metadata": {
    "colab": {},
    "colab_type": "code",
    "id": "9dL3wG6jJxt_"
   },
   "outputs": [],
   "source": [
    "players.createOrReplaceTempView('players_table')"
   ]
  },
  {
   "cell_type": "code",
   "execution_count": null,
   "metadata": {
    "colab": {},
    "colab_type": "code",
    "id": "7b-xXNsiKEDu"
   },
   "outputs": [],
   "source": [
    "query = ''' SELECT Name, Age FROM players_table WHERE Age > 21 '''"
   ]
  },
  {
   "cell_type": "code",
   "execution_count": null,
   "metadata": {
    "colab": {
     "base_uri": "https://localhost:8080/",
     "height": 190
    },
    "colab_type": "code",
    "id": "udxrIDshKMJz",
    "outputId": "72a09c9d-c7a9-46ee-89ec-69fe73ff9922"
   },
   "outputs": [
    {
     "name": "stdout",
     "output_type": "stream",
     "text": [
      "+-----------------+---+\n",
      "|             Name|Age|\n",
      "+-----------------+---+\n",
      "|Cristiano Ronaldo| 32|\n",
      "|         L. Messi| 30|\n",
      "|           Neymar| 25|\n",
      "|        L. Suárez| 30|\n",
      "+-----------------+---+\n",
      "only showing top 4 rows\n",
      "\n"
     ]
    }
   ],
   "source": [
    "spark.sql(query).show(4)"
   ]
  },
  {
   "cell_type": "markdown",
   "metadata": {
    "colab_type": "text",
    "id": "FW-nhQaYKaTX"
   },
   "source": [
    "### Your Turn:"
   ]
  },
  {
   "cell_type": "markdown",
   "metadata": {
    "colab_type": "text",
    "id": "S0l-KSgBKhh-"
   },
   "source": [
    "* Create a temporary table people that's a pointer to the people_df DataFrame.\n",
    "* Construct a query to select the names of the people from the temporary table people.\n",
    "* Assign the result of Spark's query to a new DataFrame - people_df_names.\n",
    "* Print the top 10 names of the people from people_df_names DataFrame."
   ]
  },
  {
   "cell_type": "code",
   "execution_count": null,
   "metadata": {
    "colab": {},
    "colab_type": "code",
    "id": "JAqj44PZKRcj"
   },
   "outputs": [],
   "source": [
    "# Create a temporary table \"people\"\n",
    "people_df.____(\"people\")\n",
    "\n",
    "# Construct a query to select the names of the people from the temporary table \"people\"\n",
    "query = '''SELECT name FROM ____'''\n",
    "\n",
    "# Assign the result of Spark's query to people_df_names\n",
    "people_df_names = spark.sql(____)\n",
    "\n",
    "# Print the top 10 names of the people\n",
    "people_df_names.____(____)"
   ]
  },
  {
   "cell_type": "code",
   "execution_count": null,
   "metadata": {
    "colab": {
     "base_uri": "https://localhost:8080/",
     "height": 294
    },
    "colab_type": "code",
    "id": "dwIK9hJNKqxd",
    "outputId": "2208b680-4887-47f7-f5d6-a0a3e4a9f58a"
   },
   "outputs": [
    {
     "name": "stdout",
     "output_type": "stream",
     "text": [
      "+----------------+\n",
      "|            name|\n",
      "+----------------+\n",
      "|  Penelope Lewis|\n",
      "|   David Anthony|\n",
      "|       Ida Shipp|\n",
      "|    Joanna Moore|\n",
      "|  Lisandra Ortiz|\n",
      "|   David Simmons|\n",
      "|   Edward Hudson|\n",
      "|    Albert Jones|\n",
      "|Leonard Cavender|\n",
      "|  Everett Vadala|\n",
      "+----------------+\n",
      "only showing top 10 rows\n",
      "\n"
     ]
    }
   ],
   "source": [
    "# Create a temporary table \"people\"\n",
    "people_df.createOrReplaceTempView(\"people\")\n",
    "\n",
    "# Construct a query to select the names of the people from the temporary table \"people\"\n",
    "query = '''SELECT name FROM people'''\n",
    "\n",
    "# Assign the result of Spark's query to people_df_names\n",
    "people_df_names = spark.sql(query)\n",
    "\n",
    "# Print the top 10 names of the people\n",
    "people_df_names.show(10)"
   ]
  },
  {
   "cell_type": "markdown",
   "metadata": {
    "colab_type": "text",
    "id": "0k_p8AmMK49M"
   },
   "source": [
    "* Filter the people table to select all rows where sex is female into people_female_df DataFrame.\n",
    "* Filter the people table to select all rows where sex is male into people_male_df DataFrame.\n",
    "* Count the number of rows in both people_female and people_male DataFrames."
   ]
  },
  {
   "cell_type": "code",
   "execution_count": null,
   "metadata": {
    "colab": {},
    "colab_type": "code",
    "id": "sLxtka9mK9Wu"
   },
   "outputs": [],
   "source": [
    "# Filter the people table to select female sex \n",
    "people_female_df = spark.____('SELECT * FROM ____ WHERE sex==\"____\"')\n",
    "\n",
    "# Filter the people table DataFrame to select male sex\n",
    "people_male_df = spark.____('SELECT * ____ people ____ ____==\"____\"')\n",
    "\n",
    "# Count the number of rows in both DataFrames\n",
    "print(\"There are {} rows in the people_female_df and {} rows in the people_male_df DataFrames\".format(people_female_df.____(), people_male_df.____()))"
   ]
  },
  {
   "cell_type": "code",
   "execution_count": null,
   "metadata": {
    "colab": {
     "base_uri": "https://localhost:8080/",
     "height": 35
    },
    "colab_type": "code",
    "id": "Adz0OjsmLCj0",
    "outputId": "53dd2be9-00fa-47a0-fd6e-82cd9c8b30e6"
   },
   "outputs": [
    {
     "name": "stdout",
     "output_type": "stream",
     "text": [
      "There are 49014 rows in the people_female_df and 49066 rows in the people_male_df DataFrames\n"
     ]
    }
   ],
   "source": [
    "# Filter the people table to select female sex \n",
    "people_female_df = spark.sql('SELECT * FROM people WHERE sex==\"female\"')\n",
    "\n",
    "# Filter the people table DataFrame to select male sex\n",
    "people_male_df = spark.sql('SELECT * FROM people WHERE sex==\"male\"')\n",
    "\n",
    "# Count the number of rows in both DataFrames\n",
    "print(\"There are {} rows in the people_female_df and {} rows in the people_male_df DataFrames\".format(people_female_df.count(), people_male_df.count()))"
   ]
  },
  {
   "cell_type": "markdown",
   "metadata": {
    "colab_type": "text",
    "id": "Mzp11l-tPVAA"
   },
   "source": [
    "## Data Visualization in PySpark using DataFrames"
   ]
  },
  {
   "cell_type": "markdown",
   "metadata": {
    "colab_type": "text",
    "id": "0kfNTCeTPgkH"
   },
   "source": [
    "### What is Data visualization?\n",
    "* Data visualization is a way of representing your data in graphs or charts\n",
    "* Open source plotting tools to aid visualization in Python:\n",
    "  * Matplotlib, Seaborn, Bokeh etc.,\n",
    "* Plotting graphs using PySpark DataFrames is done using three methods\n",
    "  * pyspark_dist_explore library\n",
    "  * toPandas()\n",
    "  * HandySpark library"
   ]
  },
  {
   "cell_type": "markdown",
   "metadata": {
    "colab_type": "text",
    "id": "04z6P_lCVp6s"
   },
   "source": [
    "#### Using Pandas for plotting DataFrames\n",
    "* It's easy to create charts from pandas DataFrames"
   ]
  },
  {
   "cell_type": "code",
   "execution_count": null,
   "metadata": {
    "colab": {},
    "colab_type": "code",
    "id": "OM96DymBU6y-"
   },
   "outputs": [],
   "source": [
    "test_df = spark.read.csv(\"Fifa2018_dataset.csv\", header=True, inferSchema=True)"
   ]
  },
  {
   "cell_type": "code",
   "execution_count": null,
   "metadata": {
    "colab": {},
    "colab_type": "code",
    "id": "h4B-mf6sV7YA"
   },
   "outputs": [],
   "source": [
    "test_df_pandas = test_df.toPandas()"
   ]
  },
  {
   "cell_type": "code",
   "execution_count": null,
   "metadata": {
    "colab": {
     "base_uri": "https://localhost:8080/",
     "height": 315
    },
    "colab_type": "code",
    "id": "2V5ViPNXV_6Y",
    "outputId": "9dd1ba55-1c98-466e-c0d0-dbc303c9de2e"
   },
   "outputs": [
    {
     "data": {
      "text/plain": [
       "array([[<matplotlib.axes._subplots.AxesSubplot object at 0x7f2b5fc8fc88>]],\n",
       "      dtype=object)"
      ]
     },
     "execution_count": 85,
     "metadata": {
      "tags": []
     },
     "output_type": "execute_result"
    },
    {
     "data": {
      "image/png": "[encoded data removed]",
      "text/plain": [
       "<Figure size 432x288 with 1 Axes>"
      ]
     },
     "metadata": {
      "tags": []
     },
     "output_type": "display_data"
    }
   ],
   "source": [
    "test_df_pandas.hist('Age')"
   ]
  },
  {
   "cell_type": "code",
   "execution_count": null,
   "metadata": {
    "colab": {},
    "colab_type": "code",
    "id": "REdelkVrWUwB"
   },
   "outputs": [],
   "source": []
  },
  {
   "cell_type": "code",
   "execution_count": null,
   "metadata": {},
   "outputs": [],
   "source": []
  }
 ],
 "metadata": {
  "colab": {
   "collapsed_sections": [],
   "name": "4.PySpark_dataframe.ipynb",
   "provenance": [],
   "toc_visible": true
  },
  "kernelspec": {
   "display_name": "Python 3",
   "language": "python",
   "name": "python3"
  },
  "language_info": {
   "codemirror_mode": {
    "name": "ipython",
    "version": 3
   },
   "file_extension": ".py",
   "mimetype": "text/x-python",
   "name": "python",
   "nbconvert_exporter": "python",
   "pygments_lexer": "ipython3",
   "version": "3.7.4"
  }
 },
 "nbformat": 4,
 "nbformat_minor": 4
}
