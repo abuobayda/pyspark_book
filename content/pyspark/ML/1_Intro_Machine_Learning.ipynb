{
 "cells": [
  {
   "cell_type": "markdown",
   "metadata": {
    "colab_type": "text",
    "id": "G3G3H66G3NKd"
   },
   "source": [
    "# What is Artificial Intelligence?"
   ]
  },
  {
   "cell_type": "markdown",
   "metadata": {},
   "source": [
    "[Introduction to AI](https://www.youtube.com/watch?v=mJeNghZXtMo)"
   ]
  },
  {
   "cell_type": "markdown",
   "metadata": {
    "colab_type": "text",
    "id": "wMrXGgz-9Cq8"
   },
   "source": [
    "## Machine Learning"
   ]
  },
  {
   "cell_type": "markdown",
   "metadata": {
    "colab_type": "text",
    "id": "gXV_sJuv9IWX"
   },
   "source": [
    "**Machine learning** is a field of computer science that gives computer systems the ability to \"learn\" with data, without being explicitly programmed.(1959 Arthur Samuel)\n",
    "\n",
    "**Modern definition**: \"A computer program is said to learn from experience E with respect to some class of tasks T and performance measure P, if its performance at tasks in T, as measured by P, improves with experience E.\" (Tom Mitchel 1998)"
   ]
  },
  {
   "cell_type": "markdown",
   "metadata": {
    "colab_type": "text",
    "id": "Nd9etidJAREV"
   },
   "source": [
    "Example:\n",
    "Let's say your email program watches which emails you do or do not flag as spam and based on that learns how to better filter spam.\n",
    "\n",
    "\n",
    "\n",
    "*   Task(T): classify an email as spam or not.\n",
    "*   Experience(E): Watch you label emails as spam or not.\n",
    "*   Performance(P): The number of email correctly classified as spam or not."
   ]
  },
  {
   "cell_type": "markdown",
   "metadata": {
    "colab_type": "text",
    "id": "GhGM2JVuGdnN"
   },
   "source": [
    "### Machine Learning Algorithms:"
   ]
  },
  {
   "cell_type": "markdown",
   "metadata": {
    "colab_type": "text",
    "id": "MkXG1VfE52w5"
   },
   "source": [
    "![alt text](https://cdn-images-1.medium.com/max/2000/1*FUZS9K4JPqzfXDcC83BQTw.png)"
   ]
  },
  {
   "cell_type": "markdown",
   "metadata": {
    "colab_type": "text",
    "id": "EpHMkA5F6Cq1"
   },
   "source": [
    "#### Supervised learning\n",
    "is where you have input variables ($x$) and an output variable ($Y$) and you use an algorithm to learn the mapping function from the input to the output.\n",
    "\n",
    "$$Y = f(x)$$\n",
    "\n",
    "Supervised learning problems are categorized into \"regression\" and \"classification\" problems.\n",
    "##### Classification **\"discrete label\"** \n",
    "A classification problem is when the output variable is a category, such as “red” or “blue” or “disease” and “no disease”.\n",
    "\n",
    "\n",
    "##### Regression **\"continuous label\"**\n",
    "A regression problem is when the output variable is a real value, such as “dollars” or “weight”.\n"
   ]
  },
  {
   "cell_type": "markdown",
   "metadata": {
    "colab_type": "text",
    "id": "mLiXUhP-7FHK"
   },
   "source": [
    "#### Unsupervised learning\n",
    "is where you only have input data ($X$) and no corresponding output variables. The goal for unsupervised learning is to model the underlying structure or distribution in the data in order to learn more about the data.\n",
    "![alt text](https://cdn-images-1.medium.com/max/1000/1*9bJ6MVxms5W8_9gfX7fR5Q.jpeg)"
   ]
  },
  {
   "cell_type": "markdown",
   "metadata": {
    "colab_type": "text",
    "id": "P_QlZZrn8Srd"
   },
   "source": [
    "### Machine Learning Terminology:\n"
   ]
  },
  {
   "cell_type": "markdown",
   "metadata": {
    "colab_type": "text",
    "id": "L8gGIV799XTc"
   },
   "source": [
    "#### Label \n",
    "A **label** is the thing we're predicting—the y variable in simple linear regression. The label could be the future price of wheat, the kind of animal shown in a picture, the meaning of an audio clip, or just about anything.\n"
   ]
  },
  {
   "cell_type": "markdown",
   "metadata": {
    "colab_type": "text",
    "id": "F3LsehKU9clC"
   },
   "source": [
    "#### Features \n",
    "A feature is an input variable—the x variable in simple linear regression. A simple machine learning project might use a single feature, while a more sophisticated machine learning project could use millions of features, specified as:\n",
    "$$x_1, x_2, ..., x_N$$\n",
    "\n",
    "$$\\mathbf{X} = \\begin{bmatrix}\n",
    "    x_{1}^{(1)} & x_{2}^{(1)} & x_{3}^{(1)} & \\dots  & x_{4}^{(1)} \\\\\n",
    "    x_{1}^{(2)} & x_{2}^{(2)} & x_{3}^{(2)} & \\dots  & x_{4}^{(2)} \\\\\n",
    "    \\vdots & \\vdots & \\vdots & \\ddots & \\vdots \\\\\n",
    "    x_{1}^{(150)} & x_{2}^{(150)} & x_{3}^{(150)} & \\dots  & x_{4}^{(150)}\n",
    "\\end{bmatrix}.\n",
    "$$\n",
    "\n",
    "(The superscript denotes the *i*th row, and the subscript denotes the *j*th feature, respectively.)\n",
    "\n",
    "In the spam detector example, the features could include the following:\n",
    "* words in the email text\n",
    "* sender's address\n",
    "* time of day the email was sent"
   ]
  },
  {
   "cell_type": "markdown",
   "metadata": {
    "colab_type": "text",
    "id": "Dh-Xhyd89hyK"
   },
   "source": [
    "#### Examples\n",
    "An **example** is a particular instance of data, **x**. We break examples into two categories:\n",
    "\n",
    "* labeled examples\n",
    "* unlabeled examples"
   ]
  },
  {
   "cell_type": "markdown",
   "metadata": {
    "colab_type": "text",
    "id": "3mMpOdvB8xCe"
   },
   "source": [
    "A **labeled** example includes both feature(s) and the label. That is:\n",
    "$$\\text{labeled examples: {features, label}:} (x, y)$$\n",
    "Use labeled examples to **train** the model. In our spam detector example, the labeled examples would be individual emails that users have explicitly marked as \"spam\" or \"not spam.\""
   ]
  },
  {
   "cell_type": "markdown",
   "metadata": {
    "colab_type": "text",
    "id": "vbXYfP9-86Em"
   },
   "source": [
    "An **unlabeled** example contains features but not the label. That is:\n",
    "$$\\text{unlabeled examples: {features, ?}:} (x, ?)$$\n",
    "Once we've trained our model with labeled examples, we use that model to predict the label on unlabeled examples. In the spam detector, unlabeled examples are new emails that humans haven't yet labeled."
   ]
  },
  {
   "cell_type": "markdown",
   "metadata": {
    "colab_type": "text",
    "id": "uEcKumHG9HK1"
   },
   "source": [
    "#### Models\n",
    "A **model** defines the relationship between features and label. For example, a spam detection model might associate certain features strongly with \"spam\". Let's highlight two phases of a model's life:\n",
    "\n",
    "* **Training** means creating or learning the model. That is, you show the model labeled examples and enable the model to gradually learn the relationships between features and label.\n",
    "\n",
    "* **Inference** means applying the trained model to unlabeled examples. That is, you use the trained model to make useful predictions (y')."
   ]
  },
  {
   "cell_type": "code",
   "execution_count": null,
   "metadata": {
    "colab": {},
    "colab_type": "code",
    "id": "Mv6Q1Nqp52Hh"
   },
   "outputs": [],
   "source": [
    "import pandas as pd\n",
    "housing = pd.read_csv('sample_data/california_housing_train.csv')\n",
    "housing_3_features = housing[['housing_median_age', 'total_rooms', 'total_bedrooms', 'median_house_value']]"
   ]
  },
  {
   "cell_type": "code",
   "execution_count": null,
   "metadata": {
    "colab": {
     "base_uri": "https://localhost:8080/",
     "height": 198
    },
    "colab_type": "code",
    "id": "iHhijYHP-PWR",
    "outputId": "a611f5eb-3a7b-4e9b-8557-c24630dcfefb"
   },
   "outputs": [
    {
     "data": {
      "text/html": [
       "<div>\n",
       "<style scoped>\n",
       "    .dataframe tbody tr th:only-of-type {\n",
       "        vertical-align: middle;\n",
       "    }\n",
       "\n",
       "    .dataframe tbody tr th {\n",
       "        vertical-align: top;\n",
       "    }\n",
       "\n",
       "    .dataframe thead th {\n",
       "        text-align: right;\n",
       "    }\n",
       "</style>\n",
       "<table border=\"1\" class=\"dataframe\">\n",
       "  <thead>\n",
       "    <tr style=\"text-align: right;\">\n",
       "      <th></th>\n",
       "      <th>housing_median_age</th>\n",
       "      <th>total_rooms</th>\n",
       "      <th>total_bedrooms</th>\n",
       "      <th>median_house_value</th>\n",
       "    </tr>\n",
       "  </thead>\n",
       "  <tbody>\n",
       "    <tr>\n",
       "      <th>0</th>\n",
       "      <td>15.0</td>\n",
       "      <td>5612.0</td>\n",
       "      <td>1283.0</td>\n",
       "      <td>66900.0</td>\n",
       "    </tr>\n",
       "    <tr>\n",
       "      <th>1</th>\n",
       "      <td>19.0</td>\n",
       "      <td>7650.0</td>\n",
       "      <td>1901.0</td>\n",
       "      <td>80100.0</td>\n",
       "    </tr>\n",
       "    <tr>\n",
       "      <th>2</th>\n",
       "      <td>17.0</td>\n",
       "      <td>720.0</td>\n",
       "      <td>174.0</td>\n",
       "      <td>85700.0</td>\n",
       "    </tr>\n",
       "    <tr>\n",
       "      <th>3</th>\n",
       "      <td>14.0</td>\n",
       "      <td>1501.0</td>\n",
       "      <td>337.0</td>\n",
       "      <td>73400.0</td>\n",
       "    </tr>\n",
       "    <tr>\n",
       "      <th>4</th>\n",
       "      <td>20.0</td>\n",
       "      <td>1454.0</td>\n",
       "      <td>326.0</td>\n",
       "      <td>65500.0</td>\n",
       "    </tr>\n",
       "  </tbody>\n",
       "</table>\n",
       "</div>"
      ],
      "text/plain": [
       "   housing_median_age  total_rooms  total_bedrooms  median_house_value\n",
       "0                15.0       5612.0          1283.0             66900.0\n",
       "1                19.0       7650.0          1901.0             80100.0\n",
       "2                17.0        720.0           174.0             85700.0\n",
       "3                14.0       1501.0           337.0             73400.0\n",
       "4                20.0       1454.0           326.0             65500.0"
      ]
     },
     "execution_count": 4,
     "metadata": {
      "tags": []
     },
     "output_type": "execute_result"
    }
   ],
   "source": [
    "housing_3_features.head()"
   ]
  },
  {
   "cell_type": "code",
   "execution_count": null,
   "metadata": {
    "colab": {},
    "colab_type": "code",
    "id": "Hq4nHHUg-RKn"
   },
   "outputs": [],
   "source": []
  }
 ],
 "metadata": {
  "accelerator": "GPU",
  "colab": {
   "collapsed_sections": [],
   "name": "1.Intro_Machine_Learning.ipynb",
   "provenance": [],
   "toc_visible": true
  },
  "kernelspec": {
   "display_name": "Python 3",
   "language": "python",
   "name": "python3"
  },
  "language_info": {
   "codemirror_mode": {
    "name": "ipython",
    "version": 3
   },
   "file_extension": ".py",
   "mimetype": "text/x-python",
   "name": "python",
   "nbconvert_exporter": "python",
   "pygments_lexer": "ipython3",
   "version": "3.7.4"
  }
 },
 "nbformat": 4,
 "nbformat_minor": 4
}
